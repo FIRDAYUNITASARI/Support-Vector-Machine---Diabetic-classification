{
  "cells": [
    {
      "cell_type": "markdown",
      "metadata": {
        "id": "view-in-github",
        "colab_type": "text"
      },
      "source": [
        "<a href=\"https://colab.research.google.com/github/FIRDAYUNITASARI/Support-Vector-Machine---Diabetic-classification/blob/main/CODING_PYTHON_SVM.ipynb\" target=\"_parent\"><img src=\"https://colab.research.google.com/assets/colab-badge.svg\" alt=\"Open In Colab\"/></a>"
      ]
    },
    {
      "cell_type": "code",
      "execution_count": null,
      "metadata": {
        "colab": {
          "base_uri": "https://localhost:8080/"
        },
        "id": "aHYxwe4XelNR",
        "outputId": "cfe52667-857c-46f7-abdf-09bc4ba8afe0"
      },
      "outputs": [
        {
          "output_type": "stream",
          "name": "stdout",
          "text": [
            "Looking in indexes: https://pypi.org/simple, https://us-python.pkg.dev/colab-wheels/public/simple/\n",
            "Requirement already satisfied: imblearn in /usr/local/lib/python3.8/dist-packages (0.0)\n",
            "Requirement already satisfied: imbalanced-learn in /usr/local/lib/python3.8/dist-packages (from imblearn) (0.8.1)\n",
            "Requirement already satisfied: joblib>=0.11 in /usr/local/lib/python3.8/dist-packages (from imbalanced-learn->imblearn) (1.2.0)\n",
            "Requirement already satisfied: numpy>=1.13.3 in /usr/local/lib/python3.8/dist-packages (from imbalanced-learn->imblearn) (1.21.6)\n",
            "Requirement already satisfied: scikit-learn>=0.24 in /usr/local/lib/python3.8/dist-packages (from imbalanced-learn->imblearn) (1.0.2)\n",
            "Requirement already satisfied: scipy>=0.19.1 in /usr/local/lib/python3.8/dist-packages (from imbalanced-learn->imblearn) (1.7.3)\n",
            "Requirement already satisfied: threadpoolctl>=2.0.0 in /usr/local/lib/python3.8/dist-packages (from scikit-learn>=0.24->imbalanced-learn->imblearn) (3.1.0)\n"
          ]
        }
      ],
      "source": [
        "pip install imblearn"
      ]
    },
    {
      "cell_type": "markdown",
      "source": [
        "**MEMBACA DATA PENELITIAN**"
      ],
      "metadata": {
        "id": "1v338faGU5-a"
      }
    },
    {
      "cell_type": "code",
      "execution_count": null,
      "metadata": {
        "colab": {
          "base_uri": "https://localhost:8080/",
          "height": 505
        },
        "id": "_J8D4cnhRL-z",
        "outputId": "a72aa05c-28f7-46b9-f4bf-ea2c4c22bd8a"
      },
      "outputs": [
        {
          "output_type": "stream",
          "name": "stdout",
          "text": [
            "Mounted at /content/drive\n"
          ]
        },
        {
          "output_type": "execute_result",
          "data": {
            "text/plain": [
              "     Pregnancies  Glucose  BloodPressure  SkinThickness  Insulin   BMI  \\\n",
              "0              6      148             72             35        0  33.6   \n",
              "1              1       85             66             29        0  26.6   \n",
              "2              8      183             64              0        0  23.3   \n",
              "3              1       89             66             23       94  28.1   \n",
              "4              0      137             40             35      168  43.1   \n",
              "..           ...      ...            ...            ...      ...   ...   \n",
              "763           10      101             76             48      180  32.9   \n",
              "764            2      122             70             27        0  36.8   \n",
              "765            5      121             72             23      112  26.2   \n",
              "766            1      126             60              0        0  30.1   \n",
              "767            1       93             70             31        0  30.4   \n",
              "\n",
              "     DiabetesPedigreeFunction  Age  Outcome  \n",
              "0                       0.627   50        1  \n",
              "1                       0.351   31        0  \n",
              "2                       0.672   32        1  \n",
              "3                       0.167   21        0  \n",
              "4                       2.288   33        1  \n",
              "..                        ...  ...      ...  \n",
              "763                     0.171   63        0  \n",
              "764                     0.340   27        0  \n",
              "765                     0.245   30        0  \n",
              "766                     0.349   47        1  \n",
              "767                     0.315   23        0  \n",
              "\n",
              "[768 rows x 9 columns]"
            ],
            "text/html": [
              "\n",
              "  <div id=\"df-4dbd2e0a-036c-4d9f-b23b-48466fedb06d\">\n",
              "    <div class=\"colab-df-container\">\n",
              "      <div>\n",
              "<style scoped>\n",
              "    .dataframe tbody tr th:only-of-type {\n",
              "        vertical-align: middle;\n",
              "    }\n",
              "\n",
              "    .dataframe tbody tr th {\n",
              "        vertical-align: top;\n",
              "    }\n",
              "\n",
              "    .dataframe thead th {\n",
              "        text-align: right;\n",
              "    }\n",
              "</style>\n",
              "<table border=\"1\" class=\"dataframe\">\n",
              "  <thead>\n",
              "    <tr style=\"text-align: right;\">\n",
              "      <th></th>\n",
              "      <th>Pregnancies</th>\n",
              "      <th>Glucose</th>\n",
              "      <th>BloodPressure</th>\n",
              "      <th>SkinThickness</th>\n",
              "      <th>Insulin</th>\n",
              "      <th>BMI</th>\n",
              "      <th>DiabetesPedigreeFunction</th>\n",
              "      <th>Age</th>\n",
              "      <th>Outcome</th>\n",
              "    </tr>\n",
              "  </thead>\n",
              "  <tbody>\n",
              "    <tr>\n",
              "      <th>0</th>\n",
              "      <td>6</td>\n",
              "      <td>148</td>\n",
              "      <td>72</td>\n",
              "      <td>35</td>\n",
              "      <td>0</td>\n",
              "      <td>33.6</td>\n",
              "      <td>0.627</td>\n",
              "      <td>50</td>\n",
              "      <td>1</td>\n",
              "    </tr>\n",
              "    <tr>\n",
              "      <th>1</th>\n",
              "      <td>1</td>\n",
              "      <td>85</td>\n",
              "      <td>66</td>\n",
              "      <td>29</td>\n",
              "      <td>0</td>\n",
              "      <td>26.6</td>\n",
              "      <td>0.351</td>\n",
              "      <td>31</td>\n",
              "      <td>0</td>\n",
              "    </tr>\n",
              "    <tr>\n",
              "      <th>2</th>\n",
              "      <td>8</td>\n",
              "      <td>183</td>\n",
              "      <td>64</td>\n",
              "      <td>0</td>\n",
              "      <td>0</td>\n",
              "      <td>23.3</td>\n",
              "      <td>0.672</td>\n",
              "      <td>32</td>\n",
              "      <td>1</td>\n",
              "    </tr>\n",
              "    <tr>\n",
              "      <th>3</th>\n",
              "      <td>1</td>\n",
              "      <td>89</td>\n",
              "      <td>66</td>\n",
              "      <td>23</td>\n",
              "      <td>94</td>\n",
              "      <td>28.1</td>\n",
              "      <td>0.167</td>\n",
              "      <td>21</td>\n",
              "      <td>0</td>\n",
              "    </tr>\n",
              "    <tr>\n",
              "      <th>4</th>\n",
              "      <td>0</td>\n",
              "      <td>137</td>\n",
              "      <td>40</td>\n",
              "      <td>35</td>\n",
              "      <td>168</td>\n",
              "      <td>43.1</td>\n",
              "      <td>2.288</td>\n",
              "      <td>33</td>\n",
              "      <td>1</td>\n",
              "    </tr>\n",
              "    <tr>\n",
              "      <th>...</th>\n",
              "      <td>...</td>\n",
              "      <td>...</td>\n",
              "      <td>...</td>\n",
              "      <td>...</td>\n",
              "      <td>...</td>\n",
              "      <td>...</td>\n",
              "      <td>...</td>\n",
              "      <td>...</td>\n",
              "      <td>...</td>\n",
              "    </tr>\n",
              "    <tr>\n",
              "      <th>763</th>\n",
              "      <td>10</td>\n",
              "      <td>101</td>\n",
              "      <td>76</td>\n",
              "      <td>48</td>\n",
              "      <td>180</td>\n",
              "      <td>32.9</td>\n",
              "      <td>0.171</td>\n",
              "      <td>63</td>\n",
              "      <td>0</td>\n",
              "    </tr>\n",
              "    <tr>\n",
              "      <th>764</th>\n",
              "      <td>2</td>\n",
              "      <td>122</td>\n",
              "      <td>70</td>\n",
              "      <td>27</td>\n",
              "      <td>0</td>\n",
              "      <td>36.8</td>\n",
              "      <td>0.340</td>\n",
              "      <td>27</td>\n",
              "      <td>0</td>\n",
              "    </tr>\n",
              "    <tr>\n",
              "      <th>765</th>\n",
              "      <td>5</td>\n",
              "      <td>121</td>\n",
              "      <td>72</td>\n",
              "      <td>23</td>\n",
              "      <td>112</td>\n",
              "      <td>26.2</td>\n",
              "      <td>0.245</td>\n",
              "      <td>30</td>\n",
              "      <td>0</td>\n",
              "    </tr>\n",
              "    <tr>\n",
              "      <th>766</th>\n",
              "      <td>1</td>\n",
              "      <td>126</td>\n",
              "      <td>60</td>\n",
              "      <td>0</td>\n",
              "      <td>0</td>\n",
              "      <td>30.1</td>\n",
              "      <td>0.349</td>\n",
              "      <td>47</td>\n",
              "      <td>1</td>\n",
              "    </tr>\n",
              "    <tr>\n",
              "      <th>767</th>\n",
              "      <td>1</td>\n",
              "      <td>93</td>\n",
              "      <td>70</td>\n",
              "      <td>31</td>\n",
              "      <td>0</td>\n",
              "      <td>30.4</td>\n",
              "      <td>0.315</td>\n",
              "      <td>23</td>\n",
              "      <td>0</td>\n",
              "    </tr>\n",
              "  </tbody>\n",
              "</table>\n",
              "<p>768 rows × 9 columns</p>\n",
              "</div>\n",
              "      <button class=\"colab-df-convert\" onclick=\"convertToInteractive('df-4dbd2e0a-036c-4d9f-b23b-48466fedb06d')\"\n",
              "              title=\"Convert this dataframe to an interactive table.\"\n",
              "              style=\"display:none;\">\n",
              "        \n",
              "  <svg xmlns=\"http://www.w3.org/2000/svg\" height=\"24px\"viewBox=\"0 0 24 24\"\n",
              "       width=\"24px\">\n",
              "    <path d=\"M0 0h24v24H0V0z\" fill=\"none\"/>\n",
              "    <path d=\"M18.56 5.44l.94 2.06.94-2.06 2.06-.94-2.06-.94-.94-2.06-.94 2.06-2.06.94zm-11 1L8.5 8.5l.94-2.06 2.06-.94-2.06-.94L8.5 2.5l-.94 2.06-2.06.94zm10 10l.94 2.06.94-2.06 2.06-.94-2.06-.94-.94-2.06-.94 2.06-2.06.94z\"/><path d=\"M17.41 7.96l-1.37-1.37c-.4-.4-.92-.59-1.43-.59-.52 0-1.04.2-1.43.59L10.3 9.45l-7.72 7.72c-.78.78-.78 2.05 0 2.83L4 21.41c.39.39.9.59 1.41.59.51 0 1.02-.2 1.41-.59l7.78-7.78 2.81-2.81c.8-.78.8-2.07 0-2.86zM5.41 20L4 18.59l7.72-7.72 1.47 1.35L5.41 20z\"/>\n",
              "  </svg>\n",
              "      </button>\n",
              "      \n",
              "  <style>\n",
              "    .colab-df-container {\n",
              "      display:flex;\n",
              "      flex-wrap:wrap;\n",
              "      gap: 12px;\n",
              "    }\n",
              "\n",
              "    .colab-df-convert {\n",
              "      background-color: #E8F0FE;\n",
              "      border: none;\n",
              "      border-radius: 50%;\n",
              "      cursor: pointer;\n",
              "      display: none;\n",
              "      fill: #1967D2;\n",
              "      height: 32px;\n",
              "      padding: 0 0 0 0;\n",
              "      width: 32px;\n",
              "    }\n",
              "\n",
              "    .colab-df-convert:hover {\n",
              "      background-color: #E2EBFA;\n",
              "      box-shadow: 0px 1px 2px rgba(60, 64, 67, 0.3), 0px 1px 3px 1px rgba(60, 64, 67, 0.15);\n",
              "      fill: #174EA6;\n",
              "    }\n",
              "\n",
              "    [theme=dark] .colab-df-convert {\n",
              "      background-color: #3B4455;\n",
              "      fill: #D2E3FC;\n",
              "    }\n",
              "\n",
              "    [theme=dark] .colab-df-convert:hover {\n",
              "      background-color: #434B5C;\n",
              "      box-shadow: 0px 1px 3px 1px rgba(0, 0, 0, 0.15);\n",
              "      filter: drop-shadow(0px 1px 2px rgba(0, 0, 0, 0.3));\n",
              "      fill: #FFFFFF;\n",
              "    }\n",
              "  </style>\n",
              "\n",
              "      <script>\n",
              "        const buttonEl =\n",
              "          document.querySelector('#df-4dbd2e0a-036c-4d9f-b23b-48466fedb06d button.colab-df-convert');\n",
              "        buttonEl.style.display =\n",
              "          google.colab.kernel.accessAllowed ? 'block' : 'none';\n",
              "\n",
              "        async function convertToInteractive(key) {\n",
              "          const element = document.querySelector('#df-4dbd2e0a-036c-4d9f-b23b-48466fedb06d');\n",
              "          const dataTable =\n",
              "            await google.colab.kernel.invokeFunction('convertToInteractive',\n",
              "                                                     [key], {});\n",
              "          if (!dataTable) return;\n",
              "\n",
              "          const docLinkHtml = 'Like what you see? Visit the ' +\n",
              "            '<a target=\"_blank\" href=https://colab.research.google.com/notebooks/data_table.ipynb>data table notebook</a>'\n",
              "            + ' to learn more about interactive tables.';\n",
              "          element.innerHTML = '';\n",
              "          dataTable['output_type'] = 'display_data';\n",
              "          await google.colab.output.renderOutput(dataTable, element);\n",
              "          const docLink = document.createElement('div');\n",
              "          docLink.innerHTML = docLinkHtml;\n",
              "          element.appendChild(docLink);\n",
              "        }\n",
              "      </script>\n",
              "    </div>\n",
              "  </div>\n",
              "  "
            ]
          },
          "metadata": {},
          "execution_count": 2
        }
      ],
      "source": [
        "import pandas as pd\n",
        "import numpy as np\n",
        "import seaborn as sns\n",
        "import matplotlib.pyplot as plt\n",
        "from sklearn.preprocessing import LabelEncoder\n",
        "from sklearn.preprocessing import MinMaxScaler\n",
        "from google.colab import drive\n",
        "drive.mount('/content/drive', force_remount=True)\n",
        "uas ='/content/drive/MyDrive/diabetes.csv'\n",
        "uas = pd.read_csv(uas)\n",
        "uas"
      ]
    },
    {
      "cell_type": "markdown",
      "source": [
        "**MENGETAHUI INFORMASI DATA**"
      ],
      "metadata": {
        "id": "n5rSP1q_VFA2"
      }
    },
    {
      "cell_type": "code",
      "execution_count": null,
      "metadata": {
        "colab": {
          "base_uri": "https://localhost:8080/"
        },
        "id": "C2ORfCrWUQKK",
        "outputId": "c8efdaee-6fc8-4b4d-a4da-5910f95a4fb5"
      },
      "outputs": [
        {
          "output_type": "stream",
          "name": "stdout",
          "text": [
            "<class 'pandas.core.frame.DataFrame'>\n",
            "RangeIndex: 768 entries, 0 to 767\n",
            "Data columns (total 9 columns):\n",
            " #   Column                    Non-Null Count  Dtype  \n",
            "---  ------                    --------------  -----  \n",
            " 0   Pregnancies               768 non-null    int64  \n",
            " 1   Glucose                   768 non-null    int64  \n",
            " 2   BloodPressure             768 non-null    int64  \n",
            " 3   SkinThickness             768 non-null    int64  \n",
            " 4   Insulin                   768 non-null    int64  \n",
            " 5   BMI                       768 non-null    float64\n",
            " 6   DiabetesPedigreeFunction  768 non-null    float64\n",
            " 7   Age                       768 non-null    int64  \n",
            " 8   Outcome                   768 non-null    int64  \n",
            "dtypes: float64(2), int64(7)\n",
            "memory usage: 54.1 KB\n"
          ]
        }
      ],
      "source": [
        "uas.info()"
      ]
    },
    {
      "cell_type": "markdown",
      "source": [
        "**CEK DATA KOSONG**"
      ],
      "metadata": {
        "id": "RH2wKc7hVJEC"
      }
    },
    {
      "cell_type": "code",
      "execution_count": null,
      "metadata": {
        "colab": {
          "base_uri": "https://localhost:8080/"
        },
        "id": "9gFq9Drn5y_X",
        "outputId": "9c9eb6b8-e100-4296-9f0f-5eda34b6886f"
      },
      "outputs": [
        {
          "output_type": "execute_result",
          "data": {
            "text/plain": [
              "Pregnancies                 0\n",
              "Glucose                     0\n",
              "BloodPressure               0\n",
              "SkinThickness               0\n",
              "Insulin                     0\n",
              "BMI                         0\n",
              "DiabetesPedigreeFunction    0\n",
              "Age                         0\n",
              "Outcome                     0\n",
              "dtype: int64"
            ]
          },
          "metadata": {},
          "execution_count": 4
        }
      ],
      "source": [
        "# check for missing values in variables\n",
        "\n",
        "uas.isnull().sum()"
      ]
    },
    {
      "cell_type": "markdown",
      "source": [
        "**DESKRIPTIF DATA**"
      ],
      "metadata": {
        "id": "M3vrIfZ-VMVW"
      }
    },
    {
      "cell_type": "code",
      "execution_count": null,
      "metadata": {
        "colab": {
          "base_uri": "https://localhost:8080/",
          "height": 364
        },
        "id": "7DfJHCLdyzmS",
        "outputId": "046c8d81-bafa-490b-8dc9-c04b5fe33fdb"
      },
      "outputs": [
        {
          "output_type": "execute_result",
          "data": {
            "text/plain": [
              "       Pregnancies     Glucose  BloodPressure  SkinThickness     Insulin  \\\n",
              "count   768.000000  768.000000     768.000000     768.000000  768.000000   \n",
              "mean      3.845052  120.894531      69.105469      20.536458   79.799479   \n",
              "std       3.369578   31.972618      19.355807      15.952218  115.244002   \n",
              "min       0.000000    0.000000       0.000000       0.000000    0.000000   \n",
              "25%       1.000000   99.000000      62.000000       0.000000    0.000000   \n",
              "50%       3.000000  117.000000      72.000000      23.000000   30.500000   \n",
              "75%       6.000000  140.250000      80.000000      32.000000  127.250000   \n",
              "max      17.000000  199.000000     122.000000      99.000000  846.000000   \n",
              "\n",
              "              BMI  DiabetesPedigreeFunction         Age     Outcome  \n",
              "count  768.000000                768.000000  768.000000  768.000000  \n",
              "mean    31.992578                  0.471876   33.240885    0.348958  \n",
              "std      7.884160                  0.331329   11.760232    0.476951  \n",
              "min      0.000000                  0.078000   21.000000    0.000000  \n",
              "25%     27.300000                  0.243750   24.000000    0.000000  \n",
              "50%     32.000000                  0.372500   29.000000    0.000000  \n",
              "75%     36.600000                  0.626250   41.000000    1.000000  \n",
              "max     67.100000                  2.420000   81.000000    1.000000  "
            ],
            "text/html": [
              "\n",
              "  <div id=\"df-a6447bd0-d6c1-4166-9289-49dd64319b01\">\n",
              "    <div class=\"colab-df-container\">\n",
              "      <div>\n",
              "<style scoped>\n",
              "    .dataframe tbody tr th:only-of-type {\n",
              "        vertical-align: middle;\n",
              "    }\n",
              "\n",
              "    .dataframe tbody tr th {\n",
              "        vertical-align: top;\n",
              "    }\n",
              "\n",
              "    .dataframe thead th {\n",
              "        text-align: right;\n",
              "    }\n",
              "</style>\n",
              "<table border=\"1\" class=\"dataframe\">\n",
              "  <thead>\n",
              "    <tr style=\"text-align: right;\">\n",
              "      <th></th>\n",
              "      <th>Pregnancies</th>\n",
              "      <th>Glucose</th>\n",
              "      <th>BloodPressure</th>\n",
              "      <th>SkinThickness</th>\n",
              "      <th>Insulin</th>\n",
              "      <th>BMI</th>\n",
              "      <th>DiabetesPedigreeFunction</th>\n",
              "      <th>Age</th>\n",
              "      <th>Outcome</th>\n",
              "    </tr>\n",
              "  </thead>\n",
              "  <tbody>\n",
              "    <tr>\n",
              "      <th>count</th>\n",
              "      <td>768.000000</td>\n",
              "      <td>768.000000</td>\n",
              "      <td>768.000000</td>\n",
              "      <td>768.000000</td>\n",
              "      <td>768.000000</td>\n",
              "      <td>768.000000</td>\n",
              "      <td>768.000000</td>\n",
              "      <td>768.000000</td>\n",
              "      <td>768.000000</td>\n",
              "    </tr>\n",
              "    <tr>\n",
              "      <th>mean</th>\n",
              "      <td>3.845052</td>\n",
              "      <td>120.894531</td>\n",
              "      <td>69.105469</td>\n",
              "      <td>20.536458</td>\n",
              "      <td>79.799479</td>\n",
              "      <td>31.992578</td>\n",
              "      <td>0.471876</td>\n",
              "      <td>33.240885</td>\n",
              "      <td>0.348958</td>\n",
              "    </tr>\n",
              "    <tr>\n",
              "      <th>std</th>\n",
              "      <td>3.369578</td>\n",
              "      <td>31.972618</td>\n",
              "      <td>19.355807</td>\n",
              "      <td>15.952218</td>\n",
              "      <td>115.244002</td>\n",
              "      <td>7.884160</td>\n",
              "      <td>0.331329</td>\n",
              "      <td>11.760232</td>\n",
              "      <td>0.476951</td>\n",
              "    </tr>\n",
              "    <tr>\n",
              "      <th>min</th>\n",
              "      <td>0.000000</td>\n",
              "      <td>0.000000</td>\n",
              "      <td>0.000000</td>\n",
              "      <td>0.000000</td>\n",
              "      <td>0.000000</td>\n",
              "      <td>0.000000</td>\n",
              "      <td>0.078000</td>\n",
              "      <td>21.000000</td>\n",
              "      <td>0.000000</td>\n",
              "    </tr>\n",
              "    <tr>\n",
              "      <th>25%</th>\n",
              "      <td>1.000000</td>\n",
              "      <td>99.000000</td>\n",
              "      <td>62.000000</td>\n",
              "      <td>0.000000</td>\n",
              "      <td>0.000000</td>\n",
              "      <td>27.300000</td>\n",
              "      <td>0.243750</td>\n",
              "      <td>24.000000</td>\n",
              "      <td>0.000000</td>\n",
              "    </tr>\n",
              "    <tr>\n",
              "      <th>50%</th>\n",
              "      <td>3.000000</td>\n",
              "      <td>117.000000</td>\n",
              "      <td>72.000000</td>\n",
              "      <td>23.000000</td>\n",
              "      <td>30.500000</td>\n",
              "      <td>32.000000</td>\n",
              "      <td>0.372500</td>\n",
              "      <td>29.000000</td>\n",
              "      <td>0.000000</td>\n",
              "    </tr>\n",
              "    <tr>\n",
              "      <th>75%</th>\n",
              "      <td>6.000000</td>\n",
              "      <td>140.250000</td>\n",
              "      <td>80.000000</td>\n",
              "      <td>32.000000</td>\n",
              "      <td>127.250000</td>\n",
              "      <td>36.600000</td>\n",
              "      <td>0.626250</td>\n",
              "      <td>41.000000</td>\n",
              "      <td>1.000000</td>\n",
              "    </tr>\n",
              "    <tr>\n",
              "      <th>max</th>\n",
              "      <td>17.000000</td>\n",
              "      <td>199.000000</td>\n",
              "      <td>122.000000</td>\n",
              "      <td>99.000000</td>\n",
              "      <td>846.000000</td>\n",
              "      <td>67.100000</td>\n",
              "      <td>2.420000</td>\n",
              "      <td>81.000000</td>\n",
              "      <td>1.000000</td>\n",
              "    </tr>\n",
              "  </tbody>\n",
              "</table>\n",
              "</div>\n",
              "      <button class=\"colab-df-convert\" onclick=\"convertToInteractive('df-a6447bd0-d6c1-4166-9289-49dd64319b01')\"\n",
              "              title=\"Convert this dataframe to an interactive table.\"\n",
              "              style=\"display:none;\">\n",
              "        \n",
              "  <svg xmlns=\"http://www.w3.org/2000/svg\" height=\"24px\"viewBox=\"0 0 24 24\"\n",
              "       width=\"24px\">\n",
              "    <path d=\"M0 0h24v24H0V0z\" fill=\"none\"/>\n",
              "    <path d=\"M18.56 5.44l.94 2.06.94-2.06 2.06-.94-2.06-.94-.94-2.06-.94 2.06-2.06.94zm-11 1L8.5 8.5l.94-2.06 2.06-.94-2.06-.94L8.5 2.5l-.94 2.06-2.06.94zm10 10l.94 2.06.94-2.06 2.06-.94-2.06-.94-.94-2.06-.94 2.06-2.06.94z\"/><path d=\"M17.41 7.96l-1.37-1.37c-.4-.4-.92-.59-1.43-.59-.52 0-1.04.2-1.43.59L10.3 9.45l-7.72 7.72c-.78.78-.78 2.05 0 2.83L4 21.41c.39.39.9.59 1.41.59.51 0 1.02-.2 1.41-.59l7.78-7.78 2.81-2.81c.8-.78.8-2.07 0-2.86zM5.41 20L4 18.59l7.72-7.72 1.47 1.35L5.41 20z\"/>\n",
              "  </svg>\n",
              "      </button>\n",
              "      \n",
              "  <style>\n",
              "    .colab-df-container {\n",
              "      display:flex;\n",
              "      flex-wrap:wrap;\n",
              "      gap: 12px;\n",
              "    }\n",
              "\n",
              "    .colab-df-convert {\n",
              "      background-color: #E8F0FE;\n",
              "      border: none;\n",
              "      border-radius: 50%;\n",
              "      cursor: pointer;\n",
              "      display: none;\n",
              "      fill: #1967D2;\n",
              "      height: 32px;\n",
              "      padding: 0 0 0 0;\n",
              "      width: 32px;\n",
              "    }\n",
              "\n",
              "    .colab-df-convert:hover {\n",
              "      background-color: #E2EBFA;\n",
              "      box-shadow: 0px 1px 2px rgba(60, 64, 67, 0.3), 0px 1px 3px 1px rgba(60, 64, 67, 0.15);\n",
              "      fill: #174EA6;\n",
              "    }\n",
              "\n",
              "    [theme=dark] .colab-df-convert {\n",
              "      background-color: #3B4455;\n",
              "      fill: #D2E3FC;\n",
              "    }\n",
              "\n",
              "    [theme=dark] .colab-df-convert:hover {\n",
              "      background-color: #434B5C;\n",
              "      box-shadow: 0px 1px 3px 1px rgba(0, 0, 0, 0.15);\n",
              "      filter: drop-shadow(0px 1px 2px rgba(0, 0, 0, 0.3));\n",
              "      fill: #FFFFFF;\n",
              "    }\n",
              "  </style>\n",
              "\n",
              "      <script>\n",
              "        const buttonEl =\n",
              "          document.querySelector('#df-a6447bd0-d6c1-4166-9289-49dd64319b01 button.colab-df-convert');\n",
              "        buttonEl.style.display =\n",
              "          google.colab.kernel.accessAllowed ? 'block' : 'none';\n",
              "\n",
              "        async function convertToInteractive(key) {\n",
              "          const element = document.querySelector('#df-a6447bd0-d6c1-4166-9289-49dd64319b01');\n",
              "          const dataTable =\n",
              "            await google.colab.kernel.invokeFunction('convertToInteractive',\n",
              "                                                     [key], {});\n",
              "          if (!dataTable) return;\n",
              "\n",
              "          const docLinkHtml = 'Like what you see? Visit the ' +\n",
              "            '<a target=\"_blank\" href=https://colab.research.google.com/notebooks/data_table.ipynb>data table notebook</a>'\n",
              "            + ' to learn more about interactive tables.';\n",
              "          element.innerHTML = '';\n",
              "          dataTable['output_type'] = 'display_data';\n",
              "          await google.colab.output.renderOutput(dataTable, element);\n",
              "          const docLink = document.createElement('div');\n",
              "          docLink.innerHTML = docLinkHtml;\n",
              "          element.appendChild(docLink);\n",
              "        }\n",
              "      </script>\n",
              "    </div>\n",
              "  </div>\n",
              "  "
            ]
          },
          "metadata": {},
          "execution_count": 5
        }
      ],
      "source": [
        "uas.describe()"
      ]
    },
    {
      "cell_type": "markdown",
      "source": [
        "**HISTOGRAM DATA TERHADAP VARIABEL RESPON**"
      ],
      "metadata": {
        "id": "xsiMvi8NVQSK"
      }
    },
    {
      "cell_type": "code",
      "source": [
        "#histogram\n",
        "uas1 = uas[uas.Outcome==1]\n",
        "uas0 = uas[uas.Outcome==0]\n",
        "sns.set_style(\"dark\")\n",
        "\n",
        "fig = plt.figure(figsize=(20,10))\n",
        "\n",
        "#first row, first column\n",
        "ax1 = plt.subplot2grid((2,4),(0,0))\n",
        "sns.distplot(uas0.Pregnancies,kde=False,color=\"Blue\", label=\"Kehamilan negatif diabetes\")\n",
        "sns.distplot(uas1.Pregnancies,kde=False,color = \"Gold\", label = \"Kehamilan positif diabetes\")\n",
        "plt.title(\"Histogram Kehamilan\")\n",
        "plt.legend()\n",
        "\n",
        "#first row, second column\n",
        "ax2 = plt.subplot2grid((2,4),(0,1))\n",
        "sns.distplot(uas0.Glucose,kde=False,color=\"Blue\", label=\"Glukosa negatif diabetes\")\n",
        "sns.distplot(uas1.Glucose,kde=False,color = \"Gold\", label = \"Glukosa positif diabetes\")\n",
        "plt.title(\"Histogram Glukosa\")\n",
        "plt.legend()\n",
        "\n",
        "#first row, third column\n",
        "ax3 = plt.subplot2grid((2,4),(0,2))\n",
        "sns.distplot(uas0.BloodPressure\t,kde=False,color=\"Blue\", label=\"Tekanan Darah negatif diabetes\")\n",
        "sns.distplot(uas1.BloodPressure\t,kde=False,color = \"Gold\", label = \"Tekanan Darah positif diabetes\")\n",
        "plt.title(\"Histogram Tekanan Darah\")\n",
        "plt.legend()\n",
        "\n",
        "#first row, four column\n",
        "ax4 = plt.subplot2grid((2,4),(0,3))\n",
        "sns.distplot(uas0.SkinThickness\t,kde=False,color=\"Blue\", label=\"Ketebalan Kulit negatif diabetes\")\n",
        "sns.distplot(uas1.SkinThickness\t,kde=False,color = \"Gold\", label = \"Ketebalan Kulit positif diabetes\")\n",
        "plt.title(\"Histogram Ketebalan Kulit\")\n",
        "plt.legend()\n",
        "\n",
        "#second row, first column\n",
        "ax5 = plt.subplot2grid((2,4),(1,0))\n",
        "sns.distplot(uas0.Insulin\t,kde=False,color=\"Blue\", label=\"Insulin negatif diabetes\")\n",
        "sns.distplot(uas1.Insulin\t,kde=False,color = \"Gold\", label = \"Insulin positif diabetes\")\n",
        "plt.title(\"Histogram Insulin\")\n",
        "plt.legend()\n",
        "\n",
        "#second row, second column\n",
        "ax6 = plt.subplot2grid((2,4),(1,1))\n",
        "sns.distplot(uas0.BMI\t,kde=False,color=\"Blue\", label=\"BMI negatif diabetes\")\n",
        "sns.distplot(uas1.BMI\t,kde=False,color = \"Gold\", label = \"BMI positif diabetes\")\n",
        "plt.title(\"Histogram BMI\")\n",
        "plt.legend()\n",
        "\n",
        "#second row, third column\n",
        "ax6 = plt.subplot2grid((2,4),(1,2))\n",
        "sns.distplot(uas0.DiabetesPedigreeFunction\t,kde=False,color=\"Blue\", label=\"Silsilah Diabetes negatif diabetes\")\n",
        "sns.distplot(uas1.DiabetesPedigreeFunction\t,kde=False,color = \"Gold\", label = \"Silsilah Diabetes positif diabetes\")\n",
        "plt.title(\"Histogram Sililah Diabetes\")\n",
        "plt.legend()\n",
        "\n",
        "#second row, four column\n",
        "ax6 = plt.subplot2grid((2,4),(1,3))\n",
        "sns.distplot(uas0.Age\t,kde=False,color=\"Blue\", label=\"Usia negatif diabetes\")\n",
        "sns.distplot(uas1.Age\t,kde=False,color = \"Gold\", label = \"Usia positif diabetes\")\n",
        "plt.title(\"Histogram Usia\")\n",
        "plt.legend()\n"
      ],
      "metadata": {
        "colab": {
          "base_uri": "https://localhost:8080/",
          "height": 442
        },
        "id": "UCMm--bM5k1p",
        "outputId": "1230392c-9295-4a83-81c0-419181ec0f6a"
      },
      "execution_count": null,
      "outputs": [
        {
          "output_type": "stream",
          "name": "stderr",
          "text": [
            "/usr/local/lib/python3.8/dist-packages/seaborn/distributions.py:2619: FutureWarning: `distplot` is a deprecated function and will be removed in a future version. Please adapt your code to use either `displot` (a figure-level function with similar flexibility) or `histplot` (an axes-level function for histograms).\n",
            "  warnings.warn(msg, FutureWarning)\n"
          ]
        },
        {
          "output_type": "execute_result",
          "data": {
            "text/plain": [
              "<matplotlib.legend.Legend at 0x7efd49348ac0>"
            ]
          },
          "metadata": {},
          "execution_count": 6
        },
        {
          "output_type": "display_data",
          "data": {
            "text/plain": [
              "<Figure size 1440x720 with 8 Axes>"
            ],
            "image/png": "[encoded data removed]"
          },
          "metadata": {}
        }
      ]
    },
    {
      "cell_type": "markdown",
      "source": [
        "**CEK MULTIKOLINEARITAS**"
      ],
      "metadata": {
        "id": "Rpi7ZYHIVWF3"
      }
    },
    {
      "cell_type": "code",
      "execution_count": null,
      "metadata": {
        "colab": {
          "base_uri": "https://localhost:8080/",
          "height": 603
        },
        "id": "a5-COx4TH9-3",
        "outputId": "2e2ab833-6685-485a-89bd-912f6481b415"
      },
      "outputs": [
        {
          "output_type": "execute_result",
          "data": {
            "text/plain": [
              "<matplotlib.axes._subplots.AxesSubplot at 0x7efd48d60790>"
            ]
          },
          "metadata": {},
          "execution_count": 7
        },
        {
          "output_type": "display_data",
          "data": {
            "text/plain": [
              "<Figure size 864x648 with 2 Axes>"
            ],
            "image/png": "[encoded data removed]"
          },
          "metadata": {}
        }
      ],
      "source": [
        "#melihat multiko jika korelasi diatas 0.6\n",
        "plt.figure(figsize=(12,9))\n",
        "sns.heatmap(uas.corr(), annot = True, fmt = '.3f', cmap = 'YlGnBu')"
      ]
    },
    {
      "cell_type": "code",
      "execution_count": null,
      "metadata": {
        "colab": {
          "base_uri": "https://localhost:8080/",
          "height": 487
        },
        "id": "206L-3X0z8E4",
        "outputId": "f0c29b97-bd22-49ac-f037-6489a35eba4c"
      },
      "outputs": [
        {
          "output_type": "execute_result",
          "data": {
            "text/plain": [
              "     Pregnancies  Glucose  BloodPressure  SkinThickness  Insulin   BMI  \\\n",
              "0              6      148             72             35        0  33.6   \n",
              "1              1       85             66             29        0  26.6   \n",
              "2              8      183             64              0        0  23.3   \n",
              "3              1       89             66             23       94  28.1   \n",
              "4              0      137             40             35      168  43.1   \n",
              "..           ...      ...            ...            ...      ...   ...   \n",
              "763           10      101             76             48      180  32.9   \n",
              "764            2      122             70             27        0  36.8   \n",
              "765            5      121             72             23      112  26.2   \n",
              "766            1      126             60              0        0  30.1   \n",
              "767            1       93             70             31        0  30.4   \n",
              "\n",
              "     DiabetesPedigreeFunction  Age  \n",
              "0                       0.627   50  \n",
              "1                       0.351   31  \n",
              "2                       0.672   32  \n",
              "3                       0.167   21  \n",
              "4                       2.288   33  \n",
              "..                        ...  ...  \n",
              "763                     0.171   63  \n",
              "764                     0.340   27  \n",
              "765                     0.245   30  \n",
              "766                     0.349   47  \n",
              "767                     0.315   23  \n",
              "\n",
              "[768 rows x 8 columns]"
            ],
            "text/html": [
              "\n",
              "  <div id=\"df-1e3c43f1-d5a7-4217-b2cd-6118b3eda03a\">\n",
              "    <div class=\"colab-df-container\">\n",
              "      <div>\n",
              "<style scoped>\n",
              "    .dataframe tbody tr th:only-of-type {\n",
              "        vertical-align: middle;\n",
              "    }\n",
              "\n",
              "    .dataframe tbody tr th {\n",
              "        vertical-align: top;\n",
              "    }\n",
              "\n",
              "    .dataframe thead th {\n",
              "        text-align: right;\n",
              "    }\n",
              "</style>\n",
              "<table border=\"1\" class=\"dataframe\">\n",
              "  <thead>\n",
              "    <tr style=\"text-align: right;\">\n",
              "      <th></th>\n",
              "      <th>Pregnancies</th>\n",
              "      <th>Glucose</th>\n",
              "      <th>BloodPressure</th>\n",
              "      <th>SkinThickness</th>\n",
              "      <th>Insulin</th>\n",
              "      <th>BMI</th>\n",
              "      <th>DiabetesPedigreeFunction</th>\n",
              "      <th>Age</th>\n",
              "    </tr>\n",
              "  </thead>\n",
              "  <tbody>\n",
              "    <tr>\n",
              "      <th>0</th>\n",
              "      <td>6</td>\n",
              "      <td>148</td>\n",
              "      <td>72</td>\n",
              "      <td>35</td>\n",
              "      <td>0</td>\n",
              "      <td>33.6</td>\n",
              "      <td>0.627</td>\n",
              "      <td>50</td>\n",
              "    </tr>\n",
              "    <tr>\n",
              "      <th>1</th>\n",
              "      <td>1</td>\n",
              "      <td>85</td>\n",
              "      <td>66</td>\n",
              "      <td>29</td>\n",
              "      <td>0</td>\n",
              "      <td>26.6</td>\n",
              "      <td>0.351</td>\n",
              "      <td>31</td>\n",
              "    </tr>\n",
              "    <tr>\n",
              "      <th>2</th>\n",
              "      <td>8</td>\n",
              "      <td>183</td>\n",
              "      <td>64</td>\n",
              "      <td>0</td>\n",
              "      <td>0</td>\n",
              "      <td>23.3</td>\n",
              "      <td>0.672</td>\n",
              "      <td>32</td>\n",
              "    </tr>\n",
              "    <tr>\n",
              "      <th>3</th>\n",
              "      <td>1</td>\n",
              "      <td>89</td>\n",
              "      <td>66</td>\n",
              "      <td>23</td>\n",
              "      <td>94</td>\n",
              "      <td>28.1</td>\n",
              "      <td>0.167</td>\n",
              "      <td>21</td>\n",
              "    </tr>\n",
              "    <tr>\n",
              "      <th>4</th>\n",
              "      <td>0</td>\n",
              "      <td>137</td>\n",
              "      <td>40</td>\n",
              "      <td>35</td>\n",
              "      <td>168</td>\n",
              "      <td>43.1</td>\n",
              "      <td>2.288</td>\n",
              "      <td>33</td>\n",
              "    </tr>\n",
              "    <tr>\n",
              "      <th>...</th>\n",
              "      <td>...</td>\n",
              "      <td>...</td>\n",
              "      <td>...</td>\n",
              "      <td>...</td>\n",
              "      <td>...</td>\n",
              "      <td>...</td>\n",
              "      <td>...</td>\n",
              "      <td>...</td>\n",
              "    </tr>\n",
              "    <tr>\n",
              "      <th>763</th>\n",
              "      <td>10</td>\n",
              "      <td>101</td>\n",
              "      <td>76</td>\n",
              "      <td>48</td>\n",
              "      <td>180</td>\n",
              "      <td>32.9</td>\n",
              "      <td>0.171</td>\n",
              "      <td>63</td>\n",
              "    </tr>\n",
              "    <tr>\n",
              "      <th>764</th>\n",
              "      <td>2</td>\n",
              "      <td>122</td>\n",
              "      <td>70</td>\n",
              "      <td>27</td>\n",
              "      <td>0</td>\n",
              "      <td>36.8</td>\n",
              "      <td>0.340</td>\n",
              "      <td>27</td>\n",
              "    </tr>\n",
              "    <tr>\n",
              "      <th>765</th>\n",
              "      <td>5</td>\n",
              "      <td>121</td>\n",
              "      <td>72</td>\n",
              "      <td>23</td>\n",
              "      <td>112</td>\n",
              "      <td>26.2</td>\n",
              "      <td>0.245</td>\n",
              "      <td>30</td>\n",
              "    </tr>\n",
              "    <tr>\n",
              "      <th>766</th>\n",
              "      <td>1</td>\n",
              "      <td>126</td>\n",
              "      <td>60</td>\n",
              "      <td>0</td>\n",
              "      <td>0</td>\n",
              "      <td>30.1</td>\n",
              "      <td>0.349</td>\n",
              "      <td>47</td>\n",
              "    </tr>\n",
              "    <tr>\n",
              "      <th>767</th>\n",
              "      <td>1</td>\n",
              "      <td>93</td>\n",
              "      <td>70</td>\n",
              "      <td>31</td>\n",
              "      <td>0</td>\n",
              "      <td>30.4</td>\n",
              "      <td>0.315</td>\n",
              "      <td>23</td>\n",
              "    </tr>\n",
              "  </tbody>\n",
              "</table>\n",
              "<p>768 rows × 8 columns</p>\n",
              "</div>\n",
              "      <button class=\"colab-df-convert\" onclick=\"convertToInteractive('df-1e3c43f1-d5a7-4217-b2cd-6118b3eda03a')\"\n",
              "              title=\"Convert this dataframe to an interactive table.\"\n",
              "              style=\"display:none;\">\n",
              "        \n",
              "  <svg xmlns=\"http://www.w3.org/2000/svg\" height=\"24px\"viewBox=\"0 0 24 24\"\n",
              "       width=\"24px\">\n",
              "    <path d=\"M0 0h24v24H0V0z\" fill=\"none\"/>\n",
              "    <path d=\"M18.56 5.44l.94 2.06.94-2.06 2.06-.94-2.06-.94-.94-2.06-.94 2.06-2.06.94zm-11 1L8.5 8.5l.94-2.06 2.06-.94-2.06-.94L8.5 2.5l-.94 2.06-2.06.94zm10 10l.94 2.06.94-2.06 2.06-.94-2.06-.94-.94-2.06-.94 2.06-2.06.94z\"/><path d=\"M17.41 7.96l-1.37-1.37c-.4-.4-.92-.59-1.43-.59-.52 0-1.04.2-1.43.59L10.3 9.45l-7.72 7.72c-.78.78-.78 2.05 0 2.83L4 21.41c.39.39.9.59 1.41.59.51 0 1.02-.2 1.41-.59l7.78-7.78 2.81-2.81c.8-.78.8-2.07 0-2.86zM5.41 20L4 18.59l7.72-7.72 1.47 1.35L5.41 20z\"/>\n",
              "  </svg>\n",
              "      </button>\n",
              "      \n",
              "  <style>\n",
              "    .colab-df-container {\n",
              "      display:flex;\n",
              "      flex-wrap:wrap;\n",
              "      gap: 12px;\n",
              "    }\n",
              "\n",
              "    .colab-df-convert {\n",
              "      background-color: #E8F0FE;\n",
              "      border: none;\n",
              "      border-radius: 50%;\n",
              "      cursor: pointer;\n",
              "      display: none;\n",
              "      fill: #1967D2;\n",
              "      height: 32px;\n",
              "      padding: 0 0 0 0;\n",
              "      width: 32px;\n",
              "    }\n",
              "\n",
              "    .colab-df-convert:hover {\n",
              "      background-color: #E2EBFA;\n",
              "      box-shadow: 0px 1px 2px rgba(60, 64, 67, 0.3), 0px 1px 3px 1px rgba(60, 64, 67, 0.15);\n",
              "      fill: #174EA6;\n",
              "    }\n",
              "\n",
              "    [theme=dark] .colab-df-convert {\n",
              "      background-color: #3B4455;\n",
              "      fill: #D2E3FC;\n",
              "    }\n",
              "\n",
              "    [theme=dark] .colab-df-convert:hover {\n",
              "      background-color: #434B5C;\n",
              "      box-shadow: 0px 1px 3px 1px rgba(0, 0, 0, 0.15);\n",
              "      filter: drop-shadow(0px 1px 2px rgba(0, 0, 0, 0.3));\n",
              "      fill: #FFFFFF;\n",
              "    }\n",
              "  </style>\n",
              "\n",
              "      <script>\n",
              "        const buttonEl =\n",
              "          document.querySelector('#df-1e3c43f1-d5a7-4217-b2cd-6118b3eda03a button.colab-df-convert');\n",
              "        buttonEl.style.display =\n",
              "          google.colab.kernel.accessAllowed ? 'block' : 'none';\n",
              "\n",
              "        async function convertToInteractive(key) {\n",
              "          const element = document.querySelector('#df-1e3c43f1-d5a7-4217-b2cd-6118b3eda03a');\n",
              "          const dataTable =\n",
              "            await google.colab.kernel.invokeFunction('convertToInteractive',\n",
              "                                                     [key], {});\n",
              "          if (!dataTable) return;\n",
              "\n",
              "          const docLinkHtml = 'Like what you see? Visit the ' +\n",
              "            '<a target=\"_blank\" href=https://colab.research.google.com/notebooks/data_table.ipynb>data table notebook</a>'\n",
              "            + ' to learn more about interactive tables.';\n",
              "          element.innerHTML = '';\n",
              "          dataTable['output_type'] = 'display_data';\n",
              "          await google.colab.output.renderOutput(dataTable, element);\n",
              "          const docLink = document.createElement('div');\n",
              "          docLink.innerHTML = docLinkHtml;\n",
              "          element.appendChild(docLink);\n",
              "        }\n",
              "      </script>\n",
              "    </div>\n",
              "  </div>\n",
              "  "
            ]
          },
          "metadata": {},
          "execution_count": 8
        }
      ],
      "source": [
        "#menghapus variabel class\n",
        "x = uas.drop(['Outcome'], axis=1)\n",
        "x"
      ]
    },
    {
      "cell_type": "code",
      "execution_count": null,
      "metadata": {
        "colab": {
          "base_uri": "https://localhost:8080/"
        },
        "id": "tMenXkfi0kJM",
        "outputId": "ba60a8f5-1255-419f-c6ba-bd9f94cab055"
      },
      "outputs": [
        {
          "output_type": "execute_result",
          "data": {
            "text/plain": [
              "0      1\n",
              "1      0\n",
              "2      1\n",
              "3      0\n",
              "4      1\n",
              "      ..\n",
              "763    0\n",
              "764    0\n",
              "765    0\n",
              "766    1\n",
              "767    0\n",
              "Name: Outcome, Length: 768, dtype: int64"
            ]
          },
          "metadata": {},
          "execution_count": 9
        }
      ],
      "source": [
        "#menampilkan variabel class\n",
        "y = uas['Outcome']\n",
        "y"
      ]
    },
    {
      "cell_type": "markdown",
      "metadata": {
        "id": "eBTgZD6NyDIi"
      },
      "source": [
        "# **DATA ASLI**"
      ]
    },
    {
      "cell_type": "code",
      "execution_count": null,
      "metadata": {
        "id": "Ip_uzJE88g8W"
      },
      "outputs": [],
      "source": [
        "#memasukkan model svm\n",
        "\n",
        "# import SVC classifier\n",
        "from sklearn.svm import SVC\n",
        "\n",
        "# import metrics to compute accuracy\n",
        "from sklearn.metrics import accuracy_score"
      ]
    },
    {
      "cell_type": "markdown",
      "source": [
        "**PEMBAGIAN DATA 70:30**"
      ],
      "metadata": {
        "id": "Z9920KqJD13v"
      }
    },
    {
      "cell_type": "code",
      "source": [
        "#pembagian data training dan testing\n",
        "#70:30\n",
        "from sklearn.model_selection import train_test_split\n",
        "\n",
        "xtrain, xtest, ytrain, ytest = train_test_split(x, y, test_size = 0.3,\n",
        "                                                    random_state = 0)\n",
        "from sklearn.preprocessing import StandardScaler\n",
        "sc = StandardScaler()\n",
        "xtrain = sc.fit_transform(xtrain)\n",
        "xtest = sc.transform(xtest)\n",
        "\n",
        "#kernel : rbf, linear, poly, sigmoid\n",
        "from sklearn.svm import SVC\n",
        "#kernel linear\n",
        "classifier1_lin = SVC(kernel = 'linear', random_state = 0)\n",
        "classifier1_lin.fit(xtrain, ytrain)\n",
        "ypred_lin = classifier1_lin.predict(xtest)\n",
        "linear77 = accuracy_score(ytest, ypred_lin)\n",
        "\n",
        "#kernel polynomial\n",
        "classifier1_pol = SVC(kernel = 'poly', random_state = 0)\n",
        "classifier1_pol.fit(xtrain, ytrain)\n",
        "ypred_pol = classifier1_pol.predict(xtest)\n",
        "poly77 = accuracy_score(ytest, ypred_pol)\n",
        "\n",
        "#kernel rbf\n",
        "classifier1_rbf = SVC(kernel = 'rbf', random_state = 0)\n",
        "classifier1_rbf.fit(xtrain, ytrain)\n",
        "ypred_rbf = classifier1_rbf.predict(xtest)\n",
        "rbf77 = accuracy_score(ytest, ypred_rbf)\n",
        "\n",
        "#kernel sigmoid\n",
        "classifier1_sig = SVC(kernel = 'sigmoid', random_state = 0)\n",
        "classifier1_sig.fit(xtrain, ytrain)\n",
        "ypred_sig = classifier1_sig.predict(xtest)\n",
        "sigmoid77 = accuracy_score(ytest, ypred_sig)\n",
        "\n",
        "print('Classification accuracy linear 70:30     : {0:0.3f}'.format(linear77))\n",
        "print('Classification accuracy polynomial 70:30 : {0:0.3f}'.format(poly77))\n",
        "print('Classification accuracy rbf 70:30        : {0:0.3f}'.format(rbf77))\n",
        "print('Classification accuracy sigmoid 70:30    : {0:0.3f}'.format(sigmoid77))"
      ],
      "metadata": {
        "colab": {
          "base_uri": "https://localhost:8080/"
        },
        "id": "fRUDmk1fCnrp",
        "outputId": "1f616e45-6e22-4471-f8e6-ee3570285157"
      },
      "execution_count": null,
      "outputs": [
        {
          "output_type": "stream",
          "name": "stdout",
          "text": [
            "Classification accuracy linear 70:30     : 0.784\n",
            "Classification accuracy polynomial 70:30 : 0.745\n",
            "Classification accuracy rbf 70:30        : 0.758\n",
            "Classification accuracy sigmoid 70:30    : 0.719\n"
          ]
        }
      ]
    },
    {
      "cell_type": "code",
      "source": [
        "#pembagian data training dan testing\n",
        "#80:20\n",
        "from sklearn.model_selection import train_test_split\n",
        "\n",
        "xtrain1, xtest1, ytrain1, ytest1 = train_test_split(x, y, test_size = 0.2,\n",
        "                                                    random_state = 0)\n",
        "from sklearn.preprocessing import StandardScaler\n",
        "sc = StandardScaler()\n",
        "xtrain1 = sc.fit_transform(xtrain1)\n",
        "xtest1 = sc.transform(xtest1)\n",
        "\n",
        "#kernel : rbf, linear, poly, sigmoid\n",
        "from sklearn.svm import SVC\n",
        "#kernel linear\n",
        "classifier2_lin = SVC(kernel = 'linear', random_state = 0)\n",
        "classifier2_lin.fit(xtrain1, ytrain1)\n",
        "ypred_lin1 = classifier2_lin.predict(xtest1)\n",
        "linear88 = accuracy_score(ytest1, ypred_lin1)\n",
        "\n",
        "#kernel polynomial\n",
        "classifier2_pol = SVC(kernel = 'poly', random_state = 0)\n",
        "classifier2_pol.fit(xtrain1, ytrain1)\n",
        "ypred_pol1 = classifier2_pol.predict(xtest1)\n",
        "poly88 = accuracy_score(ytest1, ypred_pol1)\n",
        "\n",
        "#kernel rbf\n",
        "classifier2_rbf = SVC(kernel = 'rbf', random_state = 0)\n",
        "classifier2_rbf.fit(xtrain1, ytrain1)\n",
        "ypred_rbf1 = classifier2_rbf.predict(xtest1)\n",
        "rbf88 = accuracy_score(ytest1, ypred_rbf1)\n",
        "\n",
        "#kernel sigmoid\n",
        "classifier2_sig = SVC(kernel = 'sigmoid', random_state = 0)\n",
        "classifier2_sig.fit(xtrain1, ytrain1)\n",
        "ypred_sig1 = classifier2_sig.predict(xtest1)\n",
        "sigmoid88 = accuracy_score(ytest1, ypred_sig1)\n",
        "\n",
        "print('Classification accuracy linear 80:20     : {0:0.3f}'.format(linear88))\n",
        "print('Classification accuracy polynomial 80:20 : {0:0.3f}'.format(poly88))\n",
        "print('Classification accuracy rbf 80:20        : {0:0.3f}'.format(rbf88))\n",
        "print('Classification accuracy sigmoid 80:20    : {0:0.3f}'.format(sigmoid88))"
      ],
      "metadata": {
        "colab": {
          "base_uri": "https://localhost:8080/"
        },
        "id": "j3Vs6EVbD7IN",
        "outputId": "3d42f406-6ab2-424e-cefe-1ffa5cc38695"
      },
      "execution_count": null,
      "outputs": [
        {
          "output_type": "stream",
          "name": "stdout",
          "text": [
            "Classification accuracy linear 80:20     : 0.825\n",
            "Classification accuracy polynomial 80:20 : 0.753\n",
            "Classification accuracy rbf 80:20        : 0.792\n",
            "Classification accuracy sigmoid 80:20    : 0.766\n"
          ]
        }
      ]
    },
    {
      "cell_type": "markdown",
      "source": [
        "**PEMBAGIAN DATA 90:10**"
      ],
      "metadata": {
        "id": "M4OSpgunFH7b"
      }
    },
    {
      "cell_type": "code",
      "source": [
        "#pembagian data training dan testing\n",
        "#90:10\n",
        "from sklearn.model_selection import train_test_split\n",
        "\n",
        "xtrain2, xtest2, ytrain2, ytest2 = train_test_split(x, y, test_size = 0.1,\n",
        "                                                    random_state = 0)\n",
        "from sklearn.preprocessing import StandardScaler\n",
        "sc = StandardScaler()\n",
        "xtrain2 = sc.fit_transform(xtrain2)\n",
        "xtest2 = sc.transform(xtest2)\n",
        "\n",
        "#kernel : rbf, linear, poly, sigmoid\n",
        "from sklearn.svm import SVC\n",
        "#kernel linear\n",
        "classifier3_lin = SVC(kernel = 'linear', random_state = 0)\n",
        "classifier3_lin.fit(xtrain2, ytrain2)\n",
        "ypred_lin2 = classifier3_lin.predict(xtest2)\n",
        "linear99 = accuracy_score(ytest2, ypred_lin2)\n",
        "\n",
        "#kernel polynomial\n",
        "classifier3_pol = SVC(kernel = 'poly', random_state = 0)\n",
        "classifier3_pol.fit(xtrain2, ytrain2)\n",
        "ypred_pol2 = classifier3_pol.predict(xtest2)\n",
        "poly99 = accuracy_score(ytest2, ypred_pol2)\n",
        "\n",
        "#kernel rbf\n",
        "classifier3_rbf = SVC(kernel = 'rbf', random_state = 0)\n",
        "classifier3_rbf.fit(xtrain2, ytrain2)\n",
        "ypred_rbf2 = classifier3_rbf.predict(xtest2)\n",
        "rbf99 = accuracy_score(ytest2, ypred_rbf2)\n",
        "\n",
        "#kernel sigmoid\n",
        "classifier3_sig = SVC(kernel = 'sigmoid', random_state = 0)\n",
        "classifier3_sig.fit(xtrain2, ytrain2)\n",
        "ypred_sig2 = classifier3_sig.predict(xtest2)\n",
        "sigmoid99 = accuracy_score(ytest2, ypred_sig2)\n",
        "\n",
        "print('Classification accuracy linear 90:10     : {0:0.3f}'.format(linear99))\n",
        "print('Classification accuracy polynomial 90:10 : {0:0.3f}'.format(poly99))\n",
        "print('Classification accuracy rbf 90:10        : {0:0.3f}'.format(rbf99))\n",
        "print('Classification accuracy sigmoid 90:10    : {0:0.3f}'.format(sigmoid99))"
      ],
      "metadata": {
        "colab": {
          "base_uri": "https://localhost:8080/"
        },
        "id": "HgWcRTmAFOyS",
        "outputId": "bd2c5f5a-8990-456e-c16b-a4aa60b03da6"
      },
      "execution_count": null,
      "outputs": [
        {
          "output_type": "stream",
          "name": "stdout",
          "text": [
            "Classification accuracy linear 90:10     : 0.870\n",
            "Classification accuracy polynomial 90:10 : 0.766\n",
            "Classification accuracy rbf 90:10        : 0.831\n",
            "Classification accuracy sigmoid 90:10    : 0.740\n"
          ]
        }
      ]
    },
    {
      "cell_type": "code",
      "execution_count": null,
      "metadata": {
        "id": "gtBjNYjHMTAU"
      },
      "outputs": [],
      "source": [
        "df = pd.DataFrame({'Real Values':ytest2, 'Predicted Values':ypred_lin2})"
      ]
    },
    {
      "cell_type": "code",
      "execution_count": null,
      "metadata": {
        "colab": {
          "base_uri": "https://localhost:8080/"
        },
        "id": "ATVvRogULbsb",
        "outputId": "7a126a50-160e-476e-de84-b29af838aa79"
      },
      "outputs": [
        {
          "output_type": "stream",
          "name": "stdout",
          "text": [
            "              precision    recall  f1-score   support\n",
            "\n",
            "           0       0.87      0.94      0.91        51\n",
            "           1       0.86      0.73      0.79        26\n",
            "\n",
            "    accuracy                           0.87        77\n",
            "   macro avg       0.87      0.84      0.85        77\n",
            "weighted avg       0.87      0.87      0.87        77\n",
            "\n"
          ]
        }
      ],
      "source": [
        "# Classification metrices\n",
        "\n",
        "from sklearn.metrics import classification_report\n",
        "\n",
        "print(classification_report(ytest2, ypred_lin2))"
      ]
    },
    {
      "cell_type": "code",
      "source": [
        "# Print the Confusion Matrix and slice it into four pieces\n",
        "\n",
        "from sklearn.metrics import confusion_matrix\n",
        "\n",
        "cm = confusion_matrix(ytest2, ypred_lin2)\n",
        "\n",
        "print('Confusion matrix\\n\\n', cm)\n",
        "print('\\nTrue Positives(TP) = ', cm[0,0])\n",
        "print('\\nTrue Negatives(TN) = ', cm[1,1])\n",
        "print('\\nFalse Positives(FP) = ', cm[0,1])\n",
        "print('\\nFalse Negatives(FN) = ', cm[1,0])"
      ],
      "metadata": {
        "colab": {
          "base_uri": "https://localhost:8080/"
        },
        "id": "VR9u2h7iWSiO",
        "outputId": "bb62a900-6930-46a3-e666-a1c4890c174a"
      },
      "execution_count": null,
      "outputs": [
        {
          "output_type": "stream",
          "name": "stdout",
          "text": [
            "Confusion matrix\n",
            "\n",
            " [[48  3]\n",
            " [ 7 19]]\n",
            "\n",
            "True Positives(TP) =  48\n",
            "\n",
            "True Negatives(TN) =  19\n",
            "\n",
            "False Positives(FP) =  3\n",
            "\n",
            "False Negatives(FN) =  7\n"
          ]
        }
      ]
    },
    {
      "cell_type": "code",
      "execution_count": null,
      "metadata": {
        "colab": {
          "base_uri": "https://localhost:8080/"
        },
        "id": "6WiOtG_ELqBy",
        "outputId": "83d9efb4-22ad-4fae-9d19-781ee57bc2a5"
      },
      "outputs": [
        {
          "output_type": "stream",
          "name": "stdout",
          "text": [
            "Classification accuracy : 0.8701\n"
          ]
        }
      ],
      "source": [
        "\n",
        "TP = cm[0,0]\n",
        "TN = cm[1,1]\n",
        "FP = cm[0,1]\n",
        "FN = cm[1,0]\n",
        "\n",
        "# print classification accuracy\n",
        "\n",
        "classification_accuracy = (TP + TN) / float(TP + TN + FP + FN)\n",
        "\n",
        "print('Classification accuracy : {0:0.4f}'.format(classification_accuracy))"
      ]
    },
    {
      "cell_type": "code",
      "execution_count": null,
      "metadata": {
        "colab": {
          "base_uri": "https://localhost:8080/"
        },
        "id": "ls-p2x1sMAWl",
        "outputId": "f93c85f0-f8af-48c6-8cf4-f7dbcfd6319c"
      },
      "outputs": [
        {
          "output_type": "stream",
          "name": "stdout",
          "text": [
            "Classification error : 0.1299\n"
          ]
        }
      ],
      "source": [
        "# print classification error\n",
        "\n",
        "classification_error = (FP + FN) / float(TP + TN + FP + FN)\n",
        "\n",
        "print('Classification error : {0:0.4f}'.format(classification_error))"
      ]
    },
    {
      "cell_type": "markdown",
      "metadata": {
        "id": "3Pj1ZKo_2QE2"
      },
      "source": [
        "# **SMOTE**"
      ]
    },
    {
      "cell_type": "code",
      "execution_count": null,
      "metadata": {
        "colab": {
          "base_uri": "https://localhost:8080/"
        },
        "id": "rP7FmmbNeRjg",
        "outputId": "d0d54e16-508e-4b93-bca6-6cc61ab18578"
      },
      "outputs": [
        {
          "output_type": "stream",
          "name": "stdout",
          "text": [
            "Before OverSampling, counts of label '1': 268\n",
            "Before OverSampling, counts of label '0': 500\n",
            " \n",
            "After OverSampling, counts of label '1': 500\n",
            "After OverSampling, counts of label '0': 500\n"
          ]
        }
      ],
      "source": [
        "#sebelum smote\n",
        "print(\"Before OverSampling, counts of label '1': {}\".format(sum(y == 1)))\n",
        "print(\"Before OverSampling, counts of label '0': {}\".format(sum(y == 0)))\n",
        "print(\" \")\n",
        "#smote\n",
        "from imblearn.over_sampling import SMOTE\n",
        "sm = SMOTE(random_state = 0)\n",
        "x_smote,y_smote = sm.fit_resample(x,y)\n",
        "print(\"After OverSampling, counts of label '1': {}\".format(sum(y_smote == 1)))\n",
        "print(\"After OverSampling, counts of label '0': {}\".format(sum(y_smote == 0)))"
      ]
    },
    {
      "cell_type": "markdown",
      "source": [
        "**PEMBAGIAN DATA 90:10 SMOTE**"
      ],
      "metadata": {
        "id": "mWI71II08pJ9"
      }
    },
    {
      "cell_type": "code",
      "execution_count": null,
      "metadata": {
        "colab": {
          "base_uri": "https://localhost:8080/"
        },
        "id": "udgOzowQlgFt",
        "outputId": "628aa1bc-7825-46e8-8f35-db7b06ec53a6"
      },
      "outputs": [
        {
          "output_type": "stream",
          "name": "stdout",
          "text": [
            "Classification accuracy linear 90:10     : 0.760\n",
            "Classification accuracy rbf 90:10        : 0.880\n",
            "Classification accuracy polynomial 90:10 : 0.810\n",
            "Classification accuracy sigmoid 90:10    : 0.720\n"
          ]
        }
      ],
      "source": [
        "#pembagian data training dan testing\n",
        "#90:10\n",
        "from sklearn.model_selection import train_test_split\n",
        "\n",
        "xtrain_9smo, xtest_9smo, ytrain_9smo, ytest_9smo = train_test_split(x_smote, y_smote, test_size = 0.1,\n",
        "                                                    random_state = 0)\n",
        "from sklearn.preprocessing import StandardScaler\n",
        "sc = StandardScaler()\n",
        "xtrain_9smo = sc.fit_transform(xtrain_9smo)\n",
        "xtest_9smo = sc.transform(xtest_9smo)\n",
        "\n",
        "#kernel : rbf, linear, poly, sigmoid\n",
        "from sklearn.svm import SVC\n",
        "#kernel linear\n",
        "classifier_lin1 = SVC(kernel = 'linear', random_state = 0)\n",
        "classifier_lin1.fit(xtrain_9smo, ytrain_9smo)\n",
        "ypred_lin99 = classifier_lin1.predict(xtest_9smo)\n",
        "linear999 = accuracy_score(ytest_9smo, ypred_lin99)\n",
        "\n",
        "#kernel polynomial\n",
        "classifier_pol1 = SVC(kernel = 'poly', random_state = 0)\n",
        "classifier_pol1.fit(xtrain_9smo, ytrain_9smo)\n",
        "ypred_pol99 = classifier_pol1.predict(xtest_9smo)\n",
        "poly999 = accuracy_score(ytest_9smo, ypred_pol99)\n",
        "\n",
        "#kernel rbf\n",
        "classifier_rbf1 = SVC(kernel = 'rbf', random_state = 0)\n",
        "classifier_rbf1.fit(xtrain_9smo, ytrain_9smo)\n",
        "ypred_rbf99 = classifier_rbf1.predict(xtest_9smo)\n",
        "rbf999 = accuracy_score(ytest_9smo, ypred_rbf99)\n",
        "\n",
        "#kernel sigmoid\n",
        "classifier_sig1 = SVC(kernel = 'sigmoid', random_state = 0)\n",
        "classifier_sig1.fit(xtrain_9smo, ytrain_9smo)\n",
        "ypred_sig99 = classifier_sig1.predict(xtest_9smo)\n",
        "sigmoid999 = accuracy_score(ytest_9smo, ypred_sig99)\n",
        "\n",
        "print('Classification accuracy linear 90:10     : {0:0.3f}'.format(linear999))\n",
        "print('Classification accuracy rbf 90:10        : {0:0.3f}'.format(rbf999))\n",
        "print('Classification accuracy polynomial 90:10 : {0:0.3f}'.format(poly999))\n",
        "print('Classification accuracy sigmoid 90:10    : {0:0.3f}'.format(sigmoid999))"
      ]
    },
    {
      "cell_type": "markdown",
      "source": [
        "**PERBANDINGAN DATA 80:20**"
      ],
      "metadata": {
        "id": "SCG7S4IW_RBv"
      }
    },
    {
      "cell_type": "code",
      "source": [
        "#pembagian data training dan testing\n",
        "#80:20\n",
        "from sklearn.model_selection import train_test_split\n",
        "\n",
        "xtrain_8smo, xtest_8smo, ytrain_8smo, ytest_8smo = train_test_split(x_smote, y_smote, test_size = 0.2,\n",
        "                                                    random_state = 0)\n",
        "from sklearn.preprocessing import StandardScaler\n",
        "sc = StandardScaler()\n",
        "xtrain_8smo = sc.fit_transform(xtrain_8smo)\n",
        "xtest_8smo = sc.transform(xtest_8smo)\n",
        "\n",
        "#kernel : rbf, linear, poly, sigmoid\n",
        "from sklearn.svm import SVC\n",
        "#kernel linear\n",
        "classifier_lin2 = SVC(kernel = 'linear', random_state = 0)\n",
        "classifier_lin2.fit(xtrain_8smo, ytrain_8smo)\n",
        "ypred_lin88 = classifier_lin2.predict(xtest_8smo)\n",
        "linear888 = accuracy_score(ytest_8smo, ypred_lin88)\n",
        "\n",
        "#kernel polynomial\n",
        "classifier_pol2 = SVC(kernel = 'poly', random_state = 0)\n",
        "classifier_pol2.fit(xtrain_8smo, ytrain_8smo)\n",
        "ypred_pol88 = classifier_pol2.predict(xtest_8smo)\n",
        "poly888 = accuracy_score(ytest_8smo, ypred_pol88)\n",
        "\n",
        "#kernel rbf\n",
        "classifier_rbf2 = SVC(kernel = 'rbf', random_state = 0)\n",
        "classifier_rbf2.fit(xtrain_8smo, ytrain_8smo)\n",
        "ypred_rbf88 = classifier_rbf2.predict(xtest_8smo)\n",
        "rbf888 = accuracy_score(ytest_8smo, ypred_rbf88)\n",
        "\n",
        "#kernel sigmoid\n",
        "classifier_sig2 = SVC(kernel = 'sigmoid', random_state = 0)\n",
        "classifier_sig2.fit(xtrain_8smo, ytrain_8smo)\n",
        "ypred_sig88 = classifier_sig2.predict(xtest_8smo)\n",
        "sigmoid888 = accuracy_score(ytest_8smo, ypred_sig88)\n",
        "\n",
        "print('Classification accuracy linear 80:20     : {0:0.3f}'.format(linear888))\n",
        "print('Classification accuracy rbf 80:20        : {0:0.3f}'.format(rbf888))\n",
        "print('Classification accuracy polynomial 80:20 : {0:0.3f}'.format(poly888))\n",
        "print('Classification accuracy sigmoid 80:20    : {0:0.3f}'.format(sigmoid88))"
      ],
      "metadata": {
        "colab": {
          "base_uri": "https://localhost:8080/"
        },
        "id": "DOwc-JKA-y-d",
        "outputId": "d2dc360e-60a9-437b-b21c-cc1f5704c26d"
      },
      "execution_count": null,
      "outputs": [
        {
          "output_type": "stream",
          "name": "stdout",
          "text": [
            "Classification accuracy linear 80:20     : 0.780\n",
            "Classification accuracy rbf 80:20        : 0.850\n",
            "Classification accuracy polynomial 80:20 : 0.800\n",
            "Classification accuracy sigmoid 80:20    : 0.766\n"
          ]
        }
      ]
    },
    {
      "cell_type": "markdown",
      "source": [
        "**PERBANDINGAN DATA 70:30**\n"
      ],
      "metadata": {
        "id": "253ri_ZoAzYx"
      }
    },
    {
      "cell_type": "code",
      "source": [
        "xtrain_7smo, xtest_7smo, ytrain_7smo, ytest_7smo = train_test_split(x_smote, y_smote, test_size = 0.3,\n",
        "                                                    random_state = 0)\n",
        "from sklearn.preprocessing import StandardScaler\n",
        "sc = StandardScaler()\n",
        "xtrain_7smo = sc.fit_transform(xtrain_7smo)\n",
        "xtest_7smo = sc.transform(xtest_7smo)\n",
        "\n",
        "#kernel : rbf, linear, poly, sigmoid\n",
        "from sklearn.svm import SVC\n",
        "#kernel linear\n",
        "classifier_lin3 = SVC(kernel = 'linear', random_state = 0)\n",
        "classifier_lin3.fit(xtrain_7smo, ytrain_7smo)\n",
        "ypred_lin77 = classifier_lin3.predict(xtest_7smo)\n",
        "linear777 = accuracy_score(ytest_7smo, ypred_lin77)\n",
        "\n",
        "#kernel polynomial\n",
        "classifier_pol3 = SVC(kernel = 'poly', random_state = 0)\n",
        "classifier_pol3.fit(xtrain_7smo, ytrain_7smo)\n",
        "ypred_pol77 = classifier_pol3.predict(xtest_7smo)\n",
        "poly777 = accuracy_score(ytest_7smo, ypred_pol77)\n",
        "\n",
        "#kernel rbf\n",
        "classifier_rbf3 = SVC(kernel = 'rbf', random_state = 0)\n",
        "classifier_rbf3.fit(xtrain_7smo, ytrain_7smo)\n",
        "ypred_rbf77 = classifier_rbf3.predict(xtest_7smo)\n",
        "rbf777 = accuracy_score(ytest_7smo, ypred_rbf77)\n",
        "\n",
        "#kernel sigmoid\n",
        "classifier_sig3 = SVC(kernel = 'sigmoid', random_state = 0)\n",
        "classifier_sig3.fit(xtrain_7smo, ytrain_7smo)\n",
        "ypred_sig77 = classifier_sig3.predict(xtest_7smo)\n",
        "sigmoid777 = accuracy_score(ytest_7smo, ypred_sig77)\n",
        "\n",
        "print('Classification accuracy linear 70:30     : {0:0.3f}'.format(linear777))\n",
        "print('Classification accuracy rbf 70:30        : {0:0.3f}'.format(rbf777))\n",
        "print('Classification accuracy polynomial 70:30 : {0:0.3f}'.format(poly777))\n",
        "print('Classification accuracy sigmoid 70:30    : {0:0.3f}'.format(sigmoid777))"
      ],
      "metadata": {
        "colab": {
          "base_uri": "https://localhost:8080/"
        },
        "id": "LnIAa2lLAsRn",
        "outputId": "9c1188fe-30df-4b90-b837-de4d195433de"
      },
      "execution_count": null,
      "outputs": [
        {
          "output_type": "stream",
          "name": "stdout",
          "text": [
            "Classification accuracy linear 70:30     : 0.787\n",
            "Classification accuracy rbf 70:30        : 0.833\n",
            "Classification accuracy polynomial 70:30 : 0.793\n",
            "Classification accuracy sigmoid 70:30    : 0.700\n"
          ]
        }
      ]
    },
    {
      "cell_type": "code",
      "execution_count": null,
      "metadata": {
        "colab": {
          "base_uri": "https://localhost:8080/"
        },
        "id": "SH0WJAYZmaEx",
        "outputId": "39d2a850-a935-421c-ff7d-91f8431c3da5"
      },
      "outputs": [
        {
          "output_type": "stream",
          "name": "stdout",
          "text": [
            "Confusion matrix\n",
            "\n",
            " [[47  7]\n",
            " [ 5 41]]\n",
            "\n",
            "True Positives(TP) =  47\n",
            "\n",
            "True Negatives(TN) =  41\n",
            "\n",
            "False Positives(FP) =  7\n",
            "\n",
            "False Negatives(FN) =  5\n"
          ]
        }
      ],
      "source": [
        "# Print the Confusion Matrix and slice it into four pieces\n",
        "\n",
        "from sklearn.metrics import confusion_matrix\n",
        "\n",
        "cm_smote = confusion_matrix(ytest_9smo, ypred_rbf99)\n",
        "\n",
        "print('Confusion matrix\\n\\n', cm_smote)\n",
        "print('\\nTrue Positives(TP) = ', cm_smote[0,0])\n",
        "print('\\nTrue Negatives(TN) = ', cm_smote[1,1])\n",
        "print('\\nFalse Positives(FP) = ', cm_smote[0,1])\n",
        "print('\\nFalse Negatives(FN) = ', cm_smote[1,0])"
      ]
    },
    {
      "cell_type": "markdown",
      "source": [
        "**CONFUSION MATRIX PADA MASING-MASING SKRENARIO DENGAN AKURASI TERTINGGI**"
      ],
      "metadata": {
        "id": "NzkrinP2Ei5O"
      }
    },
    {
      "cell_type": "code",
      "source": [
        "sns.set_style(\"dark\")\n",
        "\n",
        "fig = plt.figure(figsize=(15,4))\n",
        "\n",
        "#first row, first column\n",
        "ax1 = plt.subplot2grid((1,2),(0,0))\n",
        "# visualize confusion matrix with seaborn heatmap\n",
        "\n",
        "cm_matrix = pd.DataFrame(data=cm, columns=['Actual Positive:1', 'Actual Negative:0'],\n",
        "                                 index=['Predict Positive:1', 'Predict Negative:0'])\n",
        "\n",
        "sns.heatmap(cm_matrix, annot=True, fmt='d', cmap='YlGnBu')\n",
        "plt.title(\"Confusion Matrix SVM\")\n",
        "plt.legend()\n",
        "\n",
        "#first row, second column\n",
        "ax2 = plt.subplot2grid((1,2),(0,1))\n",
        "# visualize confusion matrix with seaborn heatmap\n",
        "\n",
        "cm_matrixx = pd.DataFrame(data=cm_smote, columns=['Actual Positive:1', 'Actual Negative:0'],\n",
        "                                 index=['Predict Positive:1', 'Predict Negative:0'])\n",
        "\n",
        "sns.heatmap(cm_matrixx, annot=True, fmt='d', cmap='YlOrRd')\n",
        "plt.title(\"Confusion Matrix SVM dan SMOTE\")"
      ],
      "metadata": {
        "colab": {
          "base_uri": "https://localhost:8080/",
          "height": 264
        },
        "id": "js1HKPfPDQJ2",
        "outputId": "56646bd9-12c3-4f06-a505-a067336d4ad5"
      },
      "execution_count": null,
      "outputs": [
        {
          "output_type": "stream",
          "name": "stderr",
          "text": [
            "WARNING:matplotlib.legend:No handles with labels found to put in legend.\n"
          ]
        },
        {
          "output_type": "execute_result",
          "data": {
            "text/plain": [
              "Text(0.5, 1.0, 'Confusion Matrix SVM dan SMOTE')"
            ]
          },
          "metadata": {},
          "execution_count": 24
        },
        {
          "output_type": "display_data",
          "data": {
            "text/plain": [
              "<Figure size 1080x288 with 4 Axes>"
            ],
            "image/png": "[encoded data removed]"
          },
          "metadata": {}
        }
      ]
    },
    {
      "cell_type": "code",
      "execution_count": null,
      "metadata": {
        "colab": {
          "base_uri": "https://localhost:8080/"
        },
        "id": "FUHYZltQm63s",
        "outputId": "5b4afabe-3e2c-4efe-df4c-ed12a9ac284a"
      },
      "outputs": [
        {
          "output_type": "stream",
          "name": "stdout",
          "text": [
            "              precision    recall  f1-score   support\n",
            "\n",
            "           0       0.90      0.87      0.89        54\n",
            "           1       0.85      0.89      0.87        46\n",
            "\n",
            "    accuracy                           0.88       100\n",
            "   macro avg       0.88      0.88      0.88       100\n",
            "weighted avg       0.88      0.88      0.88       100\n",
            "\n"
          ]
        }
      ],
      "source": [
        "# Classification metrices\n",
        "\n",
        "from sklearn.metrics import classification_report\n",
        "\n",
        "print(classification_report(ytest_9smo, ypred_rbf99))"
      ]
    },
    {
      "cell_type": "code",
      "execution_count": null,
      "metadata": {
        "colab": {
          "base_uri": "https://localhost:8080/"
        },
        "id": "WOGbkgd_m-ZY",
        "outputId": "4e7760e3-89aa-4edb-f5d0-c0993b96fd28"
      },
      "outputs": [
        {
          "output_type": "stream",
          "name": "stdout",
          "text": [
            "Classification accuracy : 0.8800\n"
          ]
        }
      ],
      "source": [
        "tp = cm_smote[0,0]\n",
        "tn = cm_smote[1,1]\n",
        "fp = cm_smote[0,1]\n",
        "fn = cm_smote[1,0]\n",
        "\n",
        "# print classification accuracy\n",
        "\n",
        "accuracy = (tp + tn) / float(tp + tn + fp + fn)\n",
        "\n",
        "print('Classification accuracy : {0:0.4f}'.format(accuracy))"
      ]
    },
    {
      "cell_type": "code",
      "execution_count": null,
      "metadata": {
        "colab": {
          "base_uri": "https://localhost:8080/"
        },
        "id": "YHg10svQnGsc",
        "outputId": "4ca513f0-cd03-4b91-a6d7-50693df35e13"
      },
      "outputs": [
        {
          "output_type": "stream",
          "name": "stdout",
          "text": [
            "Classification error : 0.1200\n"
          ]
        }
      ],
      "source": [
        "# print classification error\n",
        "\n",
        "classification_error = (fp + fn) / float(tp + tn + fp + fn)\n",
        "\n",
        "print('Classification error : {0:0.4f}'.format(classification_error))"
      ]
    },
    {
      "cell_type": "markdown",
      "metadata": {
        "id": "l5cUQiD4oD9w"
      },
      "source": [
        "# **PENANGANAN OUTLIER**"
      ]
    },
    {
      "cell_type": "code",
      "execution_count": null,
      "metadata": {
        "id": "icbDoeS7get7",
        "colab": {
          "base_uri": "https://localhost:8080/",
          "height": 285
        },
        "outputId": "cff26f1d-425c-4824-efea-cea7d857128f"
      },
      "outputs": [
        {
          "output_type": "execute_result",
          "data": {
            "text/plain": [
              "<matplotlib.axes._subplots.AxesSubplot at 0x7efd4363d6d0>"
            ]
          },
          "metadata": {},
          "execution_count": 29
        },
        {
          "output_type": "display_data",
          "data": {
            "text/plain": [
              "<Figure size 432x288 with 1 Axes>"
            ],
            "image/png": "[encoded data removed]"
          },
          "metadata": {}
        }
      ],
      "source": [
        "sns.boxplot(data=uas)"
      ]
    },
    {
      "cell_type": "code",
      "execution_count": null,
      "metadata": {
        "id": "hrT6jXcDoIpK"
      },
      "outputs": [],
      "source": [
        "#function deteksi outlier\n",
        "\n",
        "def detect_outliers(uas,var):\n",
        "  Q1 = uas[var].describe()['25%']\n",
        "  Q3 = uas[var].describe()['75%']\n",
        "  IQR = Q3-Q1\n",
        "\n",
        "  lower_bound = Q3 - 1.5 * IQR\n",
        "  upper_bound = Q3 + 1.5 * IQR\n",
        "  df1 = uas.index[(uas[var] < lower_bound) | (uas[var] > upper_bound)]\n",
        "  return df1"
      ]
    },
    {
      "cell_type": "code",
      "execution_count": null,
      "metadata": {
        "id": "QGRwizlgoUv6"
      },
      "outputs": [],
      "source": [
        "index_list = []\n",
        "for diabetes in [\"Pregnancies\",\"Glucose\",\"BloodPressure\",\"SkinThickness\",\"Insulin\",\"BMI\",\"DiabetesPedigreeFunction\",\"Age\",\"Outcome\"]:\n",
        "  index_list.extend(detect_outliers(uas, diabetes))"
      ]
    },
    {
      "cell_type": "code",
      "execution_count": null,
      "metadata": {
        "id": "Bzeod3CjoapI"
      },
      "outputs": [],
      "source": [
        "#function penghapus baris outlier\n",
        "\n",
        "def remove(uas, df1):\n",
        "  df1 = sorted(set(df1))\n",
        "  uas = uas.drop(df1)\n",
        "  return uas\n",
        "data = remove(uas, index_list)"
      ]
    },
    {
      "cell_type": "code",
      "execution_count": null,
      "metadata": {
        "id": "B9LxvxrNocRu",
        "colab": {
          "base_uri": "https://localhost:8080/"
        },
        "outputId": "59d045d9-7609-44e8-a265-bc436ea1ac3c"
      },
      "outputs": [
        {
          "output_type": "execute_result",
          "data": {
            "text/plain": [
              "((768, 9), (550, 9))"
            ]
          },
          "metadata": {},
          "execution_count": 33
        }
      ],
      "source": [
        "uas.shape,data.shape"
      ]
    },
    {
      "cell_type": "code",
      "execution_count": null,
      "metadata": {
        "id": "yOGFHBODpZEL"
      },
      "outputs": [],
      "source": [
        "#menghapus variabel class\n",
        "x_out = data.drop(['Outcome'], axis=1)"
      ]
    },
    {
      "cell_type": "code",
      "execution_count": null,
      "metadata": {
        "id": "fWdT93tEpshZ"
      },
      "outputs": [],
      "source": [
        "y_out = data['Outcome']"
      ]
    },
    {
      "cell_type": "markdown",
      "metadata": {
        "id": "c0HZiqgqp9zt"
      },
      "source": [
        "**PEMBAGIAN 70:30**"
      ]
    },
    {
      "cell_type": "code",
      "execution_count": null,
      "metadata": {
        "id": "S8vPCz-_pxKM",
        "colab": {
          "base_uri": "https://localhost:8080/"
        },
        "outputId": "c3beb356-f6da-4fce-b914-ebc8725f3161"
      },
      "outputs": [
        {
          "output_type": "stream",
          "name": "stdout",
          "text": [
            "Classification accuracy linear 70:30     : 0.788\n",
            "Classification accuracy polynomial 70:30 : 0.776\n",
            "Classification accuracy rbf 70:30        : 0.764\n",
            "Classification accuracy sigmoid 70:30    : 0.745\n"
          ]
        }
      ],
      "source": [
        "#pembagian data training dan testing\n",
        "#70:30\n",
        "xtrain7, xtest7, ytrain7, ytest7 = train_test_split(x_out, y_out, test_size = 0.3,\n",
        "                                                    random_state = 0)\n",
        "\n",
        "from sklearn.preprocessing import StandardScaler\n",
        "sc = StandardScaler()\n",
        "xtrain7 = sc.fit_transform(xtrain7)\n",
        "xtest7 = sc.transform(xtest7)\n",
        "\n",
        "#kernel : rbf, linear, poly, sigmoid\n",
        "from sklearn.svm import SVC\n",
        "#kernel linear\n",
        "classifier_lin = SVC(kernel = 'linear', random_state = 0)\n",
        "classifier_lin.fit(xtrain7, ytrain7)\n",
        "ypred7_lin = classifier_lin.predict(xtest7)\n",
        "linear7 = accuracy_score(ytest7, ypred7_lin)\n",
        "\n",
        "#kernel polynomial\n",
        "classifier_pol = SVC(kernel = 'poly', random_state = 0)\n",
        "classifier_pol.fit(xtrain7, ytrain7)\n",
        "ypred_pol7 = classifier_pol.predict(xtest7)\n",
        "poly7 = accuracy_score(ytest7, ypred_pol7)\n",
        "\n",
        "#kernel rbf\n",
        "classifier_rbf = SVC(kernel = 'rbf', random_state = 0)\n",
        "classifier_rbf.fit(xtrain7, ytrain7)\n",
        "ypred7_rbf = classifier_rbf.predict(xtest7)\n",
        "rbf7 = accuracy_score(ytest7, ypred7_rbf)\n",
        "\n",
        "#kernel sigmoid\n",
        "classifier_sig = SVC(kernel = 'sigmoid', random_state = 0)\n",
        "classifier_sig.fit(xtrain7, ytrain7)\n",
        "ypred7_sig = classifier_sig.predict(xtest7)\n",
        "sigmoid7 = accuracy_score(ytest7, ypred7_sig)\n",
        "\n",
        "print('Classification accuracy linear 70:30     : {0:0.3f}'.format(linear7))\n",
        "print('Classification accuracy polynomial 70:30 : {0:0.3f}'.format(poly7))\n",
        "print('Classification accuracy rbf 70:30        : {0:0.3f}'.format(rbf7))\n",
        "print('Classification accuracy sigmoid 70:30    : {0:0.3f}'.format(sigmoid7))"
      ]
    },
    {
      "cell_type": "markdown",
      "metadata": {
        "id": "7KoWtWV1rFq0"
      },
      "source": [
        "**PEMBAGIAN 80:20**"
      ]
    },
    {
      "cell_type": "code",
      "execution_count": null,
      "metadata": {
        "id": "n3RaSkedqyvH",
        "colab": {
          "base_uri": "https://localhost:8080/"
        },
        "outputId": "201391f6-913e-4fcb-f75b-b333feb3cc12"
      },
      "outputs": [
        {
          "output_type": "stream",
          "name": "stdout",
          "text": [
            "Classification accuracy linear 80:20     : 0.791\n",
            "Classification accuracy polynomial 80:20 : 0.782\n",
            "Classification accuracy rbf 80:20        : 0.764\n",
            "Classification accuracy sigmoid 80:20    : 0.745\n"
          ]
        }
      ],
      "source": [
        "#pembagian data training dan testing\n",
        "#80:20\n",
        "xtrain8, xtest8, ytrain8, ytest8 = train_test_split(x_out, y_out, test_size = 0.2,\n",
        "                                                    random_state = 0)\n",
        "from sklearn.preprocessing import StandardScaler\n",
        "sc = StandardScaler()\n",
        "xtrain8 = sc.fit_transform(xtrain8)\n",
        "xtest8 = sc.transform(xtest8)\n",
        "\n",
        "\n",
        "#kernel : rbf, linear, poly, sigmoid\n",
        "from sklearn.svm import SVC\n",
        "#kernel linear\n",
        "classifier_linn = SVC(kernel = 'linear', random_state = 0)\n",
        "classifier_linn.fit(xtrain8, ytrain8)\n",
        "ypred8_lin = classifier_linn.predict(xtest8)\n",
        "linear8 = accuracy_score(ytest8, ypred8_lin)\n",
        "\n",
        "#kernel polynomial\n",
        "classifier_poll = SVC(kernel = 'poly', random_state = 0)\n",
        "classifier_poll.fit(xtrain8, ytrain8)\n",
        "ypred8_poly = classifier_poll.predict(xtest8)\n",
        "poly8 = accuracy_score(ytest8, ypred8_poly)\n",
        "\n",
        "#kernel rbf\n",
        "classifier_rbff = SVC(kernel = 'rbf', random_state = 0)\n",
        "classifier_rbff.fit(xtrain8, ytrain8)\n",
        "ypred8_rbf = classifier_rbff.predict(xtest8)\n",
        "rbf8 = accuracy_score(ytest8, ypred8_rbf)\n",
        "\n",
        "#kernel sigmoid\n",
        "classifier_sigg = SVC(kernel = 'sigmoid', random_state = 0)\n",
        "classifier_sigg.fit(xtrain8, ytrain8)\n",
        "ypred8_sig = classifier_sigg.predict(xtest8)\n",
        "sigmoid8 = accuracy_score(ytest8, ypred8_sig)\n",
        "\n",
        "print('Classification accuracy linear 80:20     : {0:0.3f}'.format(linear8))\n",
        "print('Classification accuracy polynomial 80:20 : {0:0.3f}'.format(poly8))\n",
        "print('Classification accuracy rbf 80:20        : {0:0.3f}'.format(rbf8))\n",
        "print('Classification accuracy sigmoid 80:20    : {0:0.3f}'.format(sigmoid8))"
      ]
    },
    {
      "cell_type": "markdown",
      "metadata": {
        "id": "-CYV4v1QrNE3"
      },
      "source": [
        "**PEMBAGIAN 90:10**"
      ]
    },
    {
      "cell_type": "code",
      "execution_count": null,
      "metadata": {
        "id": "P4Rnnb3JrAjV",
        "colab": {
          "base_uri": "https://localhost:8080/"
        },
        "outputId": "e29a7514-fe2b-4653-becc-24eb8dcec488"
      },
      "outputs": [
        {
          "output_type": "stream",
          "name": "stdout",
          "text": [
            "Classification accuracy linear 90:10     : 0.800\n",
            "Classification accuracy polynomial 90:10 : 0.782\n",
            "Classification accuracy rbf 90:10        : 0.800\n",
            "Classification accuracy sigmoid 90:10    : 0.673\n"
          ]
        }
      ],
      "source": [
        "#pembagian data training dan testing\n",
        "#90:10\n",
        "xtrain9, xtest9, ytrain9, ytest9 = train_test_split(x_out, y_out, test_size = 0.1,\n",
        "                                                    random_state = 0)\n",
        "from sklearn.preprocessing import StandardScaler\n",
        "sc = StandardScaler()\n",
        "xtrain9 = sc.fit_transform(xtrain9)\n",
        "xtest9 = sc.transform(xtest9)\n",
        "\n",
        "#kernel : rbf, linear, poly, sigmoid\n",
        "from sklearn.svm import SVC\n",
        "#kernel linear\n",
        "classifierr_lin = SVC(kernel = 'linear')\n",
        "classifierr_lin.fit(xtrain9, ytrain9)\n",
        "ypred9_lin = classifierr_lin.predict(xtest9)\n",
        "linear9 = accuracy_score(ytest9, ypred9_lin)\n",
        "\n",
        "#kernel polynomial\n",
        "classifierr_pol = SVC(kernel = 'poly')\n",
        "classifierr_pol.fit(xtrain9, ytrain9)\n",
        "ypred9_poly = classifierr_pol.predict(xtest9)\n",
        "poly9 = accuracy_score(ytest9, ypred9_poly)\n",
        "\n",
        "#kernel rbf\n",
        "classifierr_rbf = SVC(kernel = 'rbf')\n",
        "classifierr_rbf.fit(xtrain9, ytrain9)\n",
        "ypred9_rbf = classifierr_rbf.predict(xtest9)\n",
        "rbf9 = accuracy_score(ytest9, ypred9_rbf)\n",
        "\n",
        "#kernel sigmoid\n",
        "classifierr_sig = SVC(kernel = 'sigmoid')\n",
        "classifierr_sig.fit(xtrain9, ytrain9)\n",
        "ypred9_sig = classifierr_sig.predict(xtest9)\n",
        "sigmoid9 = accuracy_score(ytest9, ypred9_sig)\n",
        "\n",
        "print('Classification accuracy linear 90:10     : {0:0.3f}'.format(linear9))\n",
        "print('Classification accuracy polynomial 90:10 : {0:0.3f}'.format(poly9))\n",
        "print('Classification accuracy rbf 90:10        : {0:0.3f}'.format(rbf9))\n",
        "print('Classification accuracy sigmoid 90:10    : {0:0.3f}'.format(sigmoid9))"
      ]
    },
    {
      "cell_type": "code",
      "execution_count": null,
      "metadata": {
        "id": "Uh7Dm0G1r48V",
        "colab": {
          "base_uri": "https://localhost:8080/"
        },
        "outputId": "1203e8bb-96e8-4ef6-9ba4-76ca197ecf82"
      },
      "outputs": [
        {
          "output_type": "stream",
          "name": "stdout",
          "text": [
            "Confusion matrix\n",
            "\n",
            " [[34  3]\n",
            " [ 8 10]]\n",
            "\n",
            "True Positives(TP) =  34\n",
            "\n",
            "True Negatives(TN) =  10\n",
            "\n",
            "False Positives(FP) =  3\n",
            "\n",
            "False Negatives(FN) =  8\n"
          ]
        }
      ],
      "source": [
        "# Print the Confusion Matrix and slice it into four pieces\n",
        "\n",
        "from sklearn.metrics import confusion_matrix\n",
        "\n",
        "cmm = confusion_matrix(ytest9, ypred9_lin)\n",
        "\n",
        "print('Confusion matrix\\n\\n', cmm)\n",
        "print('\\nTrue Positives(TP) = ', cmm[0,0])\n",
        "print('\\nTrue Negatives(TN) = ', cmm[1,1])\n",
        "print('\\nFalse Positives(FP) = ', cmm[0,1])\n",
        "print('\\nFalse Negatives(FN) = ', cmm[1,0])"
      ]
    },
    {
      "cell_type": "code",
      "execution_count": null,
      "metadata": {
        "id": "kotOW219s-3O",
        "colab": {
          "base_uri": "https://localhost:8080/"
        },
        "outputId": "056f11c3-5019-4e6a-e034-745e45e2019d"
      },
      "outputs": [
        {
          "output_type": "stream",
          "name": "stdout",
          "text": [
            "              precision    recall  f1-score   support\n",
            "\n",
            "           0       0.81      0.92      0.86        37\n",
            "           1       0.77      0.56      0.65        18\n",
            "\n",
            "    accuracy                           0.80        55\n",
            "   macro avg       0.79      0.74      0.75        55\n",
            "weighted avg       0.80      0.80      0.79        55\n",
            "\n"
          ]
        }
      ],
      "source": [
        "# Classification metrices\n",
        "\n",
        "from sklearn.metrics import classification_report\n",
        "\n",
        "print(classification_report(ytest9, ypred9_lin))"
      ]
    },
    {
      "cell_type": "markdown",
      "metadata": {
        "id": "2LZ5x2ezKrWj"
      },
      "source": [
        "SMOTE"
      ]
    },
    {
      "cell_type": "code",
      "execution_count": null,
      "metadata": {
        "id": "CHuTRpNCtQqL",
        "colab": {
          "base_uri": "https://localhost:8080/"
        },
        "outputId": "fdb66517-8bbb-4030-db30-1b1414fe6d06"
      },
      "outputs": [
        {
          "output_type": "stream",
          "name": "stdout",
          "text": [
            "Before OverSampling, counts of label '1': 194\n",
            "Before OverSampling, counts of label '0': 356\n",
            " \n",
            "After OverSampling, counts of label '1': 356\n",
            "After OverSampling, counts of label '0': 356\n"
          ]
        }
      ],
      "source": [
        "#sebelum smote\n",
        "print(\"Before OverSampling, counts of label '1': {}\".format(sum(y_out == 1)))\n",
        "print(\"Before OverSampling, counts of label '0': {}\".format(sum(y_out == 0)))\n",
        "print(\" \")\n",
        "#smote\n",
        "\n",
        "from imblearn.over_sampling import SMOTE\n",
        "smm = SMOTE(random_state = 0)\n",
        "x_outsmo,y_outsmo = smm.fit_resample(x_out,y_out)\n",
        "print(\"After OverSampling, counts of label '1': {}\".format(sum(y_outsmo == 1)))\n",
        "print(\"After OverSampling, counts of label '0': {}\".format(sum(y_outsmo == 0)))"
      ]
    },
    {
      "cell_type": "markdown",
      "source": [
        "**PEMBAGIAN DATA 90:10 SMOTE**"
      ],
      "metadata": {
        "id": "KhxATlA0PyKa"
      }
    },
    {
      "cell_type": "code",
      "execution_count": null,
      "metadata": {
        "id": "6Fu9rx9EuS6C",
        "colab": {
          "base_uri": "https://localhost:8080/"
        },
        "outputId": "098de1b8-0b79-4800-a287-83a4a91ca91c"
      },
      "outputs": [
        {
          "output_type": "stream",
          "name": "stdout",
          "text": [
            "Classification accuracy linear 90:10     : 0.667\n",
            "Classification accuracy polynomial 90:10 : 0.611\n",
            "Classification accuracy rbf 90:10        : 0.694\n",
            "Classification accuracy sigmoid 90:10    : 0.528\n"
          ]
        }
      ],
      "source": [
        "#pembagian data training dan testing\n",
        "#90:10\n",
        "from sklearn.model_selection import train_test_split\n",
        "\n",
        "xtrain_outsmote, xtest_outsmote, ytrain_outsmote, ytest_outsmote = train_test_split(x_outsmo, y_outsmo, test_size = 0.1,\n",
        "                                                    random_state = 0)\n",
        "\n",
        "xtrain_outsmote = sc.fit_transform(xtrain_outsmote)\n",
        "xtest_outsmote = sc.transform(xtest_outsmote)\n",
        "\n",
        "#kernel : rbf, linear, poly, sigmoid\n",
        "from sklearn.svm import SVC\n",
        "#kernel linear\n",
        "classifier_liin9 = SVC(kernel = 'linear')\n",
        "classifier_liin9.fit(xtrain_outsmote, ytrain_outsmote)\n",
        "ypred9_linsmote = classifier_liin9.predict(xtest_outsmote)\n",
        "linearr9 = accuracy_score(ytest_outsmote, ypred9_linsmote)\n",
        "\n",
        "#kernel polynomial\n",
        "classifier_pool9 = SVC(kernel = 'poly')\n",
        "classifier_pool9.fit(xtrain9, ytrain9)\n",
        "ypred9_polysmote = classifier_pool9.predict(xtest_outsmote)\n",
        "polyy9 = accuracy_score(ytest_outsmote, ypred9_polysmote)\n",
        "\n",
        "#kernel rbf\n",
        "classifier_rbbf9 = SVC(kernel = 'rbf')\n",
        "classifier_rbbf9.fit(xtrain9, ytrain9)\n",
        "ypred9_rbfsmote = classifier_rbbf9.predict(xtest_outsmote)\n",
        "rbff9 = accuracy_score(ytest_outsmote, ypred9_rbfsmote)\n",
        "\n",
        "#kernel sigmoid\n",
        "classifier_siig9 = SVC(kernel = 'sigmoid')\n",
        "classifier_siig9.fit(xtrain9, ytrain9)\n",
        "ypred9_sigsmote = classifier_siig9.predict(xtest_outsmote)\n",
        "sigmoidd9 = accuracy_score(ytest_outsmote, ypred9_sigsmote)\n",
        "\n",
        "print('Classification accuracy linear 90:10     : {0:0.3f}'.format(linearr9))\n",
        "print('Classification accuracy polynomial 90:10 : {0:0.3f}'.format(polyy9))\n",
        "print('Classification accuracy rbf 90:10        : {0:0.3f}'.format(rbff9))\n",
        "print('Classification accuracy sigmoid 90:10    : {0:0.3f}'.format(sigmoidd9))"
      ]
    },
    {
      "cell_type": "markdown",
      "source": [
        "**PEMBAGIAN DATA 80:20 SMOTE**"
      ],
      "metadata": {
        "id": "k4lU0uSaVtzd"
      }
    },
    {
      "cell_type": "code",
      "execution_count": null,
      "metadata": {
        "id": "tj9jgcXMMYMC",
        "colab": {
          "base_uri": "https://localhost:8080/"
        },
        "outputId": "ea50c6fe-e2fa-48c9-8248-cada56bda753"
      },
      "outputs": [
        {
          "output_type": "stream",
          "name": "stdout",
          "text": [
            "Classification accuracy linear 80:20     : 0.692\n",
            "Classification accuracy polynomial 80:20 : 0.713\n",
            "Classification accuracy rbf 80:20        : 0.734\n",
            "Classification accuracy sigmoid 80:20    : 0.629\n"
          ]
        }
      ],
      "source": [
        "#pembagian data training dan testing\n",
        "#80:20\n",
        "from sklearn.model_selection import train_test_split\n",
        "\n",
        "xtrain_outsmotee, xtest_outsmotee, ytrain_outsmotee, ytest_outsmotee = train_test_split(x_outsmo, y_outsmo, test_size = 0.2,\n",
        "                                                    random_state = 0)\n",
        "\n",
        "xtrain_outsmotee = sc.fit_transform(xtrain_outsmotee)\n",
        "xtest_outsmotee = sc.transform(xtest_outsmotee)\n",
        "\n",
        "#kernel : rbf, linear, poly, sigmoid\n",
        "from sklearn.svm import SVC\n",
        "#kernel linear\n",
        "classifier_liin8 = SVC(kernel = 'linear')\n",
        "classifier_liin8.fit(xtrain_outsmotee, ytrain_outsmotee)\n",
        "ypred8_linsmote = classifier_liin8.predict(xtest_outsmotee)\n",
        "linearr8 = accuracy_score(ytest_outsmotee, ypred8_linsmote)\n",
        "\n",
        "#kernel polynomial\n",
        "classifier_pool8 = SVC(kernel = 'poly')\n",
        "classifier_pool8.fit(xtrain_outsmotee, ytrain_outsmotee)\n",
        "ypred8_polysmote = classifier_pool8.predict(xtest_outsmotee)\n",
        "polyy8 = accuracy_score(ytest_outsmotee, ypred8_polysmote)\n",
        "\n",
        "#kernel rbf\n",
        "classifier_rbbf8 = SVC(kernel = 'rbf')\n",
        "classifier_rbbf8.fit(xtrain_outsmotee, ytrain_outsmotee)\n",
        "ypred8_rbfsmote = classifier_rbbf8.predict(xtest_outsmotee)\n",
        "rbff8 = accuracy_score(ytest_outsmotee, ypred8_rbfsmote)\n",
        "\n",
        "#kernel sigmoid\n",
        "classifier_siig8 = SVC(kernel = 'sigmoid')\n",
        "classifier_siig8.fit(xtrain_outsmotee, ytrain_outsmotee)\n",
        "ypred8_sigsmote = classifier_siig8.predict(xtest_outsmotee)\n",
        "sigmoidd8 = accuracy_score(ytest_outsmotee, ypred8_sigsmote)\n",
        "\n",
        "print('Classification accuracy linear 80:20     : {0:0.3f}'.format(linearr8))\n",
        "print('Classification accuracy polynomial 80:20 : {0:0.3f}'.format(polyy8))\n",
        "print('Classification accuracy rbf 80:20        : {0:0.3f}'.format(rbff8))\n",
        "print('Classification accuracy sigmoid 80:20    : {0:0.3f}'.format(sigmoidd8))"
      ]
    },
    {
      "cell_type": "markdown",
      "source": [
        "**PEMBAGIAN DATA 70:30 SMOTE**"
      ],
      "metadata": {
        "id": "znXLAsE_XJU0"
      }
    },
    {
      "cell_type": "code",
      "source": [
        "#pembagian data training dan testing\n",
        "#70:30\n",
        "from sklearn.model_selection import train_test_split\n",
        "\n",
        "xtrain_outsmoteee, xtest_outsmoteee, ytrain_outsmoteee, ytest_outsmoteee = train_test_split(x_outsmo, y_outsmo, test_size = 0.3,\n",
        "                                                    random_state = 0)\n",
        "\n",
        "xtrain_outsmoteee = sc.fit_transform(xtrain_outsmoteee)\n",
        "xtest_outsmoteee = sc.transform(xtest_outsmoteee)\n",
        "\n",
        "#kernel : rbf, linear, poly, sigmoid\n",
        "from sklearn.svm import SVC\n",
        "#kernel linear\n",
        "classifier_liin7 = SVC(kernel = 'linear')\n",
        "classifier_liin7.fit(xtrain_outsmoteee, ytrain_outsmoteee)\n",
        "ypred7_linsmote = classifier_liin7.predict(xtest_outsmoteee)\n",
        "linearr7 = accuracy_score(ytest_outsmoteee, ypred7_linsmote)\n",
        "\n",
        "#kernel polynomial\n",
        "classifier_pool7 = SVC(kernel = 'poly')\n",
        "classifier_pool7.fit(xtrain_outsmoteee, ytrain_outsmoteee)\n",
        "ypred7_polysmote = classifier_pool7.predict(xtest_outsmoteee)\n",
        "polyy7 = accuracy_score(ytest_outsmoteee, ypred7_polysmote)\n",
        "\n",
        "#kernel rbf\n",
        "classifier_rbbf7 = SVC(kernel = 'rbf')\n",
        "classifier_rbbf7.fit(xtrain_outsmoteee, ytrain_outsmoteee)\n",
        "ypred7_rbfsmote = classifier_rbbf7.predict(xtest_outsmoteee)\n",
        "rbff7 = accuracy_score(ytest_outsmoteee, ypred7_rbfsmote)\n",
        "\n",
        "#kernel sigmoid\n",
        "classifier_siig7 = SVC(kernel = 'sigmoid')\n",
        "classifier_siig7.fit(xtrain_outsmoteee, ytrain_outsmoteee)\n",
        "ypred7_sigsmote = classifier_siig7.predict(xtest_outsmoteee)\n",
        "sigmoidd7 = accuracy_score(ytest_outsmoteee, ypred7_sigsmote)\n",
        "\n",
        "print('Classification accuracy linear 70:30     : {0:0.3f}'.format(linearr7))\n",
        "print('Classification accuracy polynomial 70:30 : {0:0.3f}'.format(polyy7))\n",
        "print('Classification accuracy rbf 70:30        : {0:0.3f}'.format(rbff7))\n",
        "print('Classification accuracy sigmoid 70:30    : {0:0.3f}'.format(sigmoidd7))"
      ],
      "metadata": {
        "id": "DxP1fOMDXUIr",
        "colab": {
          "base_uri": "https://localhost:8080/"
        },
        "outputId": "cd178d56-9705-49df-892c-ff7ee5643f6d"
      },
      "execution_count": null,
      "outputs": [
        {
          "output_type": "stream",
          "name": "stdout",
          "text": [
            "Classification accuracy linear 70:30     : 0.724\n",
            "Classification accuracy polynomial 70:30 : 0.762\n",
            "Classification accuracy rbf 70:30        : 0.762\n",
            "Classification accuracy sigmoid 70:30    : 0.636\n"
          ]
        }
      ]
    },
    {
      "cell_type": "code",
      "execution_count": null,
      "metadata": {
        "id": "5hG6hlG8vX4g",
        "colab": {
          "base_uri": "https://localhost:8080/"
        },
        "outputId": "c6de05c2-cb52-42ee-dd35-6a162b95a588"
      },
      "outputs": [
        {
          "output_type": "stream",
          "name": "stdout",
          "text": [
            "Confusion matrix\n",
            "\n",
            " [[83 18]\n",
            " [33 80]]\n",
            "\n",
            "True Positives(TP) =  83\n",
            "\n",
            "True Negatives(TN) =  80\n",
            "\n",
            "False Positives(FP) =  18\n",
            "\n",
            "False Negatives(FN) =  33\n"
          ]
        }
      ],
      "source": [
        "# Print the Confusion Matrix and slice it into four pieces\n",
        "\n",
        "from sklearn.metrics import confusion_matrix\n",
        "\n",
        "cmo_smote = confusion_matrix(ytest_outsmoteee, ypred7_rbfsmote)\n",
        "\n",
        "print('Confusion matrix\\n\\n', cmo_smote )\n",
        "print('\\nTrue Positives(TP) = ', cmo_smote [0,0])\n",
        "print('\\nTrue Negatives(TN) = ', cmo_smote [1,1])\n",
        "print('\\nFalse Positives(FP) = ', cmo_smote [0,1])\n",
        "print('\\nFalse Negatives(FN) = ', cmo_smote [1,0])"
      ]
    },
    {
      "cell_type": "code",
      "execution_count": null,
      "metadata": {
        "id": "y-wPNsmtv-xX",
        "colab": {
          "base_uri": "https://localhost:8080/"
        },
        "outputId": "3cc0fa45-7e73-40fc-bd89-94e54f672655"
      },
      "outputs": [
        {
          "output_type": "stream",
          "name": "stdout",
          "text": [
            "              precision    recall  f1-score   support\n",
            "\n",
            "           0       0.72      0.82      0.76       101\n",
            "           1       0.82      0.71      0.76       113\n",
            "\n",
            "    accuracy                           0.76       214\n",
            "   macro avg       0.77      0.76      0.76       214\n",
            "weighted avg       0.77      0.76      0.76       214\n",
            "\n"
          ]
        }
      ],
      "source": [
        "# Classification metrices\n",
        "\n",
        "from sklearn.metrics import classification_report\n",
        "\n",
        "print(classification_report(ytest_outsmoteee, ypred7_rbfsmote))"
      ]
    },
    {
      "cell_type": "code",
      "execution_count": null,
      "metadata": {
        "id": "u_1Ey98RwNZF",
        "colab": {
          "base_uri": "https://localhost:8080/"
        },
        "outputId": "312f05fc-a327-4736-81f8-e31e038963cb"
      },
      "outputs": [
        {
          "output_type": "stream",
          "name": "stdout",
          "text": [
            "Classification accuracy : 0.762\n",
            "Classification error : 0.238\n"
          ]
        }
      ],
      "source": [
        "tpp = cmo_smote[0,0]\n",
        "tnn = cmo_smote[1,1]\n",
        "fpp = cmo_smote[0,1]\n",
        "fnn = cmo_smote[1,0]\n",
        "\n",
        "# print classification accuracy\n",
        "accuracy = (tpp + tnn) / float(tpp + tnn + fpp + fnn)\n",
        "print('Classification accuracy : {0:0.3f}'.format(accuracy))\n",
        "\n",
        "# print classification error\n",
        "classification_error = (fpp + fnn) / float(tpp + tnn + fpp + fnn)\n",
        "print('Classification error : {0:0.3f}'.format(classification_error))"
      ]
    },
    {
      "cell_type": "code",
      "source": [
        "sns.set_style(\"dark\")\n",
        "\n",
        "fig = plt.figure(figsize=(15,4))\n",
        "\n",
        "#first row, first column\n",
        "ax1 = plt.subplot2grid((1,2),(0,0))\n",
        "\n",
        "cmm_matrix = pd.DataFrame(data=cmm, columns=['Actual Positive:1', 'Actual Negative:0'],\n",
        "                                 index=['Predict Positive:1', 'Predict Negative:0'])\n",
        "\n",
        "sns.heatmap(cmm_matrix, annot=True, fmt='d', cmap='YlGnBu')\n",
        "plt.title(\"Confusion Matrix SVM Dengan Penanganan Outlier\")\n",
        "plt.legend()\n",
        "\n",
        "#first row, second column\n",
        "ax2 = plt.subplot2grid((1,2),(0,1))\n",
        "# visualize confusion matrix with seaborn heatmap\n",
        "\n",
        "cmo_matrix = pd.DataFrame(data=cmo_smote, columns=['Actual Positive:1', 'Actual Negative:0'],\n",
        "                                 index=['Predict Positive:1', 'Predict Negative:0'])\n",
        "\n",
        "sns.heatmap(cmo_matrix, annot=True, fmt='d', cmap='YlOrRd')\n",
        "plt.title(\"Confusion Matrix SVM dan SMOTE Dengan Penanganan Outlier\")"
      ],
      "metadata": {
        "id": "M9dh8wKXaDc4",
        "colab": {
          "base_uri": "https://localhost:8080/",
          "height": 265
        },
        "outputId": "00ca619b-cb08-4f3e-e25f-2f01c7c414c3"
      },
      "execution_count": null,
      "outputs": [
        {
          "output_type": "stream",
          "name": "stderr",
          "text": [
            "WARNING:matplotlib.legend:No handles with labels found to put in legend.\n"
          ]
        },
        {
          "output_type": "execute_result",
          "data": {
            "text/plain": [
              "Text(0.5, 1.0, 'Confusion Matrix SVM dan SMOTE Dengan Penanganan Outlier')"
            ]
          },
          "metadata": {},
          "execution_count": 48
        },
        {
          "output_type": "display_data",
          "data": {
            "text/plain": [
              "<Figure size 1080x288 with 4 Axes>"
            ],
            "image/png": "[encoded data removed]"
          },
          "metadata": {}
        }
      ]
    },
    {
      "cell_type": "markdown",
      "source": [
        "# **VISUALISASI**"
      ],
      "metadata": {
        "id": "pgjLUwagXK7x"
      }
    },
    {
      "cell_type": "code",
      "source": [
        "from sklearn.svm import SVC\n",
        "import matplotlib.pyplot as plt\n",
        "import seaborn as sns; sns.set()\n",
        "from sklearn.datasets import make_blobs, make_circles\n",
        "from matplotlib.colors import ListedColormap\n",
        "\n",
        "def test_plot(xtrain_9smo, ytrain_9smo, classifier_rbf1, axes, title):\n",
        "  plt.axes(axes)\n",
        "  xlim = [np.min(xtest_9smo[:, 0]), np.max(xtest_9smo[:, 0])]\n",
        "  ylim = [np.min(xtest_9smo[:, 1]), np.max(xtest_9smo[:, 1])]\n",
        "  xx, yy = np.meshgrid(np.linspace(*xlim, num=700), np.linspace(*ylim, num=700))\n",
        "  rgb=np.array([[210, 0, 0], [0, 0, 150]])/255.0\n",
        "\n",
        "  classifier_rbf1.fit(xtrain_9smo, ytrain_9smo)\n",
        "  z_model = classifier_rbf1.decision_function(np.c_[xx.ravel(), yy.ravel()]).reshape(xx.shape)\n",
        "\n",
        "  plot = plt.scatter(xtest_9smo[:, 0], xtest_9smo[:, 1], c=ypred_rbf99, s=50, cmap='autumn')\n",
        "  plt.contour(xx, yy, z_model, colors='k', levels=[-1, 0, 1], alpha=0.5, linestyles=['--', '-', '--'])\n",
        "  plt.contourf(xx, yy, np.sign(z_model.reshape(xx.shape)), alpha=0.3, levels=2, cmap=ListedColormap(rgb), zorder=1)\n",
        "  plt.title(title)\n",
        "  plt.colorbar(plot)\n",
        "\n",
        "xtrain_9smo, ytrain_9smo = make_circles(100, factor=.1, noise=.1)\n",
        "fig, axs = plt.subplots(nrows=1,ncols=2,figsize=(15,4))\n",
        "test_plot(xtrain_9smo, ytrain_9smo, SVC(kernel='rbf', C=10, gamma=1), axs[1], 'Hasil Prediksi SVM Dengan SMOTE')\n"
      ],
      "metadata": {
        "colab": {
          "base_uri": "https://localhost:8080/",
          "height": 228
        },
        "id": "C_b7cZ2mXKDr",
        "outputId": "11b18c6f-1114-405e-a5b1-36dc8e14ae4a"
      },
      "execution_count": null,
      "outputs": [
        {
          "output_type": "display_data",
          "data": {
            "text/plain": [
              "<Figure size 1080x288 with 3 Axes>"
            ],
            "image/png": "[encoded data removed]"
          },
          "metadata": {}
        }
      ]
    },
    {
      "cell_type": "markdown",
      "metadata": {
        "id": "R_NhjnvtjiJR"
      },
      "source": [
        "## **PIE CHART PERBANDINGAN**"
      ]
    },
    {
      "cell_type": "code",
      "execution_count": null,
      "metadata": {
        "id": "ab5LhbaPjaop",
        "colab": {
          "base_uri": "https://localhost:8080/",
          "height": 202
        },
        "outputId": "15e5965a-cc49-4a76-cf8b-8a3810e2a26a"
      },
      "outputs": [
        {
          "output_type": "execute_result",
          "data": {
            "text/plain": [
              "Text(0.5, 1.0, 'Persentase Label Outlier SMOTE')"
            ]
          },
          "metadata": {},
          "execution_count": 50
        },
        {
          "output_type": "display_data",
          "data": {
            "text/plain": [
              "<Figure size 1080x288 with 4 Axes>"
            ],
            "image/png": "[encoded data removed]"
          },
          "metadata": {}
        }
      ],
      "source": [
        "#mengetahui banyaknya data dalam class\n",
        "jumlah = uas['Outcome'].value_counts()\n",
        "jumlah_smote = y_smote.value_counts()\n",
        "jumlah_out = data['Outcome'].value_counts()\n",
        "jumlah_smoteout = y_outsmo.value_counts()\n",
        "\n",
        "fig = plt.figure(figsize=(15,4))\n",
        "\n",
        "#first row, first column\n",
        "ax1 = plt.subplot2grid((1,4),(0,0))\n",
        "plt.pie(jumlah, labels=['Negatif','Positif'], autopct='%.1f%%')\n",
        "plt.title('Persentase Label Data Awal')\n",
        "\n",
        "#first row second column\n",
        "ax2 = plt.subplot2grid((1,4), (0,1))\n",
        "plt.pie(jumlah_smote, labels=['Negatif','Positif'], autopct='%.1f%%')\n",
        "plt.title('Persentase Label SMOTE')\n",
        "\n",
        "#first row third column\n",
        "ax2 = plt.subplot2grid((1,4), (0,2))\n",
        "plt.pie(jumlah_out, labels=['Negatif','Positif'], autopct='%.1f%%')\n",
        "plt.title('Persentase Label tanpa data outlier')\n",
        "\n",
        "#first row four column\n",
        "ax3 = plt.subplot2grid((1,4), (0,3))\n",
        "plt.pie(jumlah_smoteout, labels=['Negatif','Positif'], autopct='%.1f%%')\n",
        "plt.title('Persentase Label Outlier SMOTE')"
      ]
    },
    {
      "cell_type": "code",
      "execution_count": null,
      "metadata": {
        "id": "Cqe2q26J1FrS",
        "colab": {
          "base_uri": "https://localhost:8080/"
        },
        "outputId": "675d7ef4-2b50-4b76-aa8d-fb7a80404990"
      },
      "outputs": [
        {
          "output_type": "execute_result",
          "data": {
            "text/plain": [
              "0    500\n",
              "1    268\n",
              "Name: Outcome, dtype: int64"
            ]
          },
          "metadata": {},
          "execution_count": 51
        }
      ],
      "source": [
        "jumlah"
      ]
    },
    {
      "cell_type": "code",
      "execution_count": null,
      "metadata": {
        "id": "JNXQPcDK1dF3",
        "colab": {
          "base_uri": "https://localhost:8080/"
        },
        "outputId": "5a537b1f-16a3-4b59-aafd-3ad384e30b35"
      },
      "outputs": [
        {
          "output_type": "execute_result",
          "data": {
            "text/plain": [
              "1    500\n",
              "0    500\n",
              "Name: Outcome, dtype: int64"
            ]
          },
          "metadata": {},
          "execution_count": 52
        }
      ],
      "source": [
        "jumlah_smote"
      ]
    },
    {
      "cell_type": "code",
      "execution_count": null,
      "metadata": {
        "id": "X0ndy-kS1ipm",
        "colab": {
          "base_uri": "https://localhost:8080/"
        },
        "outputId": "be3009b2-af42-4eb5-b435-089c91825b39"
      },
      "outputs": [
        {
          "output_type": "execute_result",
          "data": {
            "text/plain": [
              "0    356\n",
              "1    194\n",
              "Name: Outcome, dtype: int64"
            ]
          },
          "metadata": {},
          "execution_count": 53
        }
      ],
      "source": [
        "jumlah_out"
      ]
    },
    {
      "cell_type": "code",
      "source": [
        "jumlah_smoteout"
      ],
      "metadata": {
        "id": "-AHR-8nN1UD_",
        "colab": {
          "base_uri": "https://localhost:8080/"
        },
        "outputId": "9f0d4b05-f608-4992-fd8b-0fe914e9be7c"
      },
      "execution_count": null,
      "outputs": [
        {
          "output_type": "execute_result",
          "data": {
            "text/plain": [
              "1    356\n",
              "0    356\n",
              "Name: Outcome, dtype: int64"
            ]
          },
          "metadata": {},
          "execution_count": 54
        }
      ]
    }
  ],
  "metadata": {
    "colab": {
      "provenance": [],
      "include_colab_link": true
    },
    "kernelspec": {
      "display_name": "Python 3",
      "name": "python3"
    },
    "language_info": {
      "name": "python"
    }
  },
  "nbformat": 4,
  "nbformat_minor": 0
}